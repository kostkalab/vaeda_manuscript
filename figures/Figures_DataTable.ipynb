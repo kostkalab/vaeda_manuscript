{
 "cells": [
  {
   "cell_type": "code",
   "execution_count": null,
   "id": "rolled-drunk",
   "metadata": {},
   "outputs": [],
   "source": [
    "import numpy as np\n",
    "import pandas as pd\n",
    "import matplotlib.pyplot as plt\n",
    "from os import listdir\n",
    "from os.path import isfile, join\n",
    "import pathlib as pl\n",
    "from scipy.io import mmread\n",
    "import scipy.sparse as scs\n"
   ]
  },
  {
   "cell_type": "code",
   "execution_count": null,
   "id": "final-reader",
   "metadata": {},
   "outputs": [],
   "source": [
    "info_list = ['number of cells', 'number of doublets', 'doublet fraction', 'median UMI', 'median gene count']"
   ]
  },
  {
   "cell_type": "code",
   "execution_count": null,
   "id": "experimental-feedback",
   "metadata": {},
   "outputs": [],
   "source": [
    "save_path = '../results_manuscript/tables/'\n",
    "path = '../data/mtx_files/'\n",
    "files = [f for f in listdir(path) if (isfile(join(path, f)) & (f[-3:] == 'mtx'))]\n",
    "data_names =  [f.split('.')[0] for f in listdir(path) if (isfile(join(path, f)) & (f[-3:] == 'mtx'))]\n",
    "data_names = np.sort(data_names)"
   ]
  },
  {
   "cell_type": "code",
   "execution_count": null,
   "id": "educational-engineering",
   "metadata": {},
   "outputs": [],
   "source": [
    "data_names\n"
   ]
  },
  {
   "cell_type": "code",
   "execution_count": null,
   "id": "ruled-basketball",
   "metadata": {},
   "outputs": [],
   "source": [
    "tmp1 = np.zeros((len(data_names), len(info_list)))\n",
    "df = pd.DataFrame(tmp1, index=data_names, columns=info_list)\n",
    "df"
   ]
  },
  {
   "cell_type": "code",
   "execution_count": null,
   "id": "revised-split",
   "metadata": {},
   "outputs": [],
   "source": [
    "df.loc['HEK-HMEC-MULTI']['number of cells']"
   ]
  },
  {
   "cell_type": "code",
   "execution_count": null,
   "id": "continued-turner",
   "metadata": {},
   "outputs": [],
   "source": [
    "for file in files:\n",
    "    method_name='vaeda'\n",
    "\n",
    "    data_name = file[:-4]\n",
    "    print(data_name)\n",
    "    \n",
    "    #- READ IN COUNTS\n",
    "    cnts_path = '../data/mtx_files/' + data_name + '.mtx'\n",
    "    dat_real = mmread(cnts_path)\n",
    "    Xr = scs.csr_matrix(dat_real).toarray().T\n",
    "\n",
    "    ano_path  = '../data/mtx_files/' + data_name + '_anno.csv'\n",
    "    \n",
    "    #- READ IN BARCODE ANNOTATIONS\n",
    "    ano = pd.read_csv(ano_path)\n",
    "    true = pd.factorize(ano.x)[0]\n",
    "    labels = ano.x\n",
    "    if (labels[0]=='doublet'):\n",
    "        tmp = true + 3\n",
    "        tmp[tmp==3] = 1\n",
    "        tmp[tmp==4] = 0\n",
    "        true = tmp\n",
    "        \n",
    "    df.loc[data_name]['number of cells'] = len(true)\n",
    "    df.loc[data_name]['number of doublets'] = sum(true == 1)\n",
    "    df.loc[data_name]['doublet fraction'] = sum(true == 1) / len(true)\n",
    "    df.loc[data_name]['median UMI'] = np.median(np.sum(Xr, axis=1))\n",
    "    df.loc[data_name]['median gene count'] = np.median(np.sum(Xr>0, axis=1))\n",
    "    \n"
   ]
  },
  {
   "cell_type": "code",
   "execution_count": null,
   "id": "4fdd8f11-3b9c-4a91-8b6f-5d605b546090",
   "metadata": {},
   "outputs": [],
   "source": [
    "df.round(3)"
   ]
  },
  {
   "cell_type": "code",
   "execution_count": null,
   "id": "2b44bf5a-2ff0-49fe-ba11-a428326b25a3",
   "metadata": {},
   "outputs": [],
   "source": []
  },
  {
   "cell_type": "code",
   "execution_count": null,
   "id": "engaging-tyler",
   "metadata": {},
   "outputs": [],
   "source": [
    "df.round(3).to_csv(save_path + 'data_table.csv') "
   ]
  },
  {
   "cell_type": "code",
   "execution_count": null,
   "id": "1789feff-6729-4f44-aca7-ff78d72c2bcf",
   "metadata": {},
   "outputs": [],
   "source": []
  },
  {
   "cell_type": "code",
   "execution_count": null,
   "id": "d1f2d54a-4d99-4669-a29c-dc3965684e7c",
   "metadata": {},
   "outputs": [],
   "source": []
  },
  {
   "cell_type": "code",
   "execution_count": null,
   "id": "3b100cdb-42f0-4712-88cf-bb65700e21f7",
   "metadata": {},
   "outputs": [],
   "source": []
  },
  {
   "cell_type": "code",
   "execution_count": null,
   "id": "f1dbff1c-f345-4461-893b-d75de35805d6",
   "metadata": {},
   "outputs": [],
   "source": []
  }
 ],
 "metadata": {
  "kernelspec": {
   "display_name": "newenv",
   "language": "python",
   "name": "newenv"
  },
  "language_info": {
   "codemirror_mode": {
    "name": "ipython",
    "version": 3
   },
   "file_extension": ".py",
   "mimetype": "text/x-python",
   "name": "python",
   "nbconvert_exporter": "python",
   "pygments_lexer": "ipython3",
   "version": "3.8.5"
  }
 },
 "nbformat": 4,
 "nbformat_minor": 5
}
