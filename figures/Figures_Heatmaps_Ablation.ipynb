{
 "cells": [
  {
   "cell_type": "code",
   "execution_count": null,
   "id": "based-address",
   "metadata": {},
   "outputs": [],
   "source": [
    "import numpy as np\n",
    "from numpy import *\n",
    "import pandas as pd\n",
    "\n",
    "import matplotlib.pyplot as plt\n",
    "import seaborn as sns\n",
    "\n",
    "from os import listdir\n",
    "from os.path import isfile, join, isdir"
   ]
  },
  {
   "cell_type": "code",
   "execution_count": null,
   "id": "9ac3675c-1499-49aa-a4d3-89d0729d34b5",
   "metadata": {},
   "outputs": [],
   "source": [
    "dim_reds = ['clust_vae', 'vae', 'pca']\n",
    "PUs      = ['PU', 'noPU']\n",
    "clsses   = ['knn', 'NN']\n",
    "feats    = ['knnfeat', 'nofeat']\n",
    "homos    = ['remove', 'keep']"
   ]
  },
  {
   "cell_type": "code",
   "execution_count": null,
   "id": "e673eb24-8917-4a90-886e-940cb812f7d2",
   "metadata": {},
   "outputs": [],
   "source": [
    "params = dim_reds+PUs+clsses+feats+homos"
   ]
  },
  {
   "cell_type": "code",
   "execution_count": null,
   "id": "f2a6f41d-9036-42cf-a676-ebd7a2c3edab",
   "metadata": {},
   "outputs": [],
   "source": [
    "path = '../results_PU/ablation_analysis/'\n",
    "\n",
    "paths = []\n",
    "methods = []\n",
    "\n",
    "for feat in feats:\n",
    "    for homo in homos:\n",
    "        for dim_red in dim_reds:\n",
    "            for pu in PUs:\n",
    "                for clss in clsses:\n",
    "                    \n",
    "                    paths.append(path + 'FEAT' + feat + '/HOMO' + homo + '/DIMRED' + dim_red + '/PU' + pu + '/CLSS' + clss + '/')\n",
    "                    methods.append(feat + '-' + homo + '-' + dim_red + '-' + pu + '-' + clss)\n",
    "                    \n",
    "                 "
   ]
  },
  {
   "cell_type": "code",
   "execution_count": null,
   "id": "dc718f0b-a261-429e-a6ec-0e52cbf5589f",
   "metadata": {},
   "outputs": [],
   "source": [
    "params = pd.DataFrame(np.zeros((7,len(methods))), index=['classifier', 'knn feature', 'sim homo', 'PU', 'clust-VAE', 'VAE', 'PCA'], columns=methods)"
   ]
  },
  {
   "cell_type": "code",
   "execution_count": null,
   "id": "f3ba551c-5b8c-4137-be14-e5b571fe602e",
   "metadata": {},
   "outputs": [],
   "source": [
    "for feat in feats:\n",
    "    for homo in homos:\n",
    "        for dim_red in dim_reds:\n",
    "            for pu in PUs:\n",
    "                for clss in clsses:\n",
    "                    method = feat + '-' + homo + '-' + dim_red + '-' + pu + '-' + clss\n",
    "                    \n",
    "                    if(clss=='NN'):\n",
    "                        params.loc['classifier', method] = 1\n",
    "                    if(pu=='PU'):\n",
    "                        params.loc['PU', method] = 1\n",
    "                    if(feat=='knnfeat'):\n",
    "                        params.loc['knn feature', method] = 1\n",
    "                    if(homo=='keep'):\n",
    "                        params.loc['sim homo', method] = 1\n",
    "                    if(dim_red=='vae'):\n",
    "                        params.loc['VAE', method] = 1\n",
    "                    if(dim_red=='clust_vae'):\n",
    "                        params.loc['clust-VAE', method] = 1\n",
    "                    if(dim_red=='pca'):\n",
    "                        params.loc['PCA', method] = 1\n",
    "    "
   ]
  },
  {
   "cell_type": "code",
   "execution_count": null,
   "id": "massive-boring",
   "metadata": {},
   "outputs": [],
   "source": [
    "save_path = '../results_manuscript/ablation/'"
   ]
  },
  {
   "cell_type": "code",
   "execution_count": null,
   "id": "advanced-locking",
   "metadata": {},
   "outputs": [],
   "source": [
    "pth = paths[0]\n",
    "data_names = np.sort(np.unique([f.split('_')[0] for f in listdir(pth) ]))\n",
    "data_names"
   ]
  },
  {
   "cell_type": "code",
   "execution_count": null,
   "id": "cleared-adapter",
   "metadata": {},
   "outputs": [],
   "source": [
    "tmp1 = np.zeros((len(methods), len(data_names)))\n",
    "tmp2 = np.zeros((len(methods), len(data_names)))\n",
    "hm_pr = pd.DataFrame(tmp1, index=methods, columns=np.sort(data_names))\n",
    "hm_roc = pd.DataFrame(tmp2, index=methods, columns=np.sort(data_names))\n",
    "\n",
    "\n",
    "tmp1 = np.zeros((len(methods)* len(data_names), 2))\n",
    "tmp2 = np.zeros((len(methods)* len(data_names), 2))\n",
    "df_pr = pd.DataFrame(tmp1, columns=['method', 'score'])\n",
    "df_roc = pd.DataFrame(tmp2, columns=['method', 'score'])\n"
   ]
  },
  {
   "cell_type": "code",
   "execution_count": null,
   "id": "grave-electron",
   "metadata": {},
   "outputs": [],
   "source": [
    "j=0\n",
    "for i, method in enumerate(methods):\n",
    "    print(method)\n",
    "    pth = paths[i]\n",
    "    print(pth)\n",
    "    files = [f for f in listdir(pth) if (isfile(join(pth, f)) & ((f[-14:-5]=='_results_') | (f[-7:]=='ALL.csv')))]\n",
    "    for file in files:\n",
    "        \n",
    "        data_name = file.split('_')[0]\n",
    "        \n",
    "        p = join(pth, file)\n",
    "        results = pd.read_csv(p)\n",
    "\n",
    "        roc = float(results.AUROC)\n",
    "        hm_roc[data_name].loc[method] = roc\n",
    "        au = float(results.AUPRC)\n",
    "        hm_pr[data_name].loc[method] = au\n",
    "    \n",
    "        df_pr['method'].iloc[j] = method\n",
    "        df_pr['score'].iloc[j] = au\n",
    "        df_roc['method'].iloc[j] = method\n",
    "        df_roc['score'].iloc[j] = roc\n",
    "    \n",
    "        j+=1"
   ]
  },
  {
   "cell_type": "code",
   "execution_count": null,
   "id": "49b96911-67f7-43fe-98d0-1650e3853d12",
   "metadata": {},
   "outputs": [],
   "source": [
    "df_pr"
   ]
  },
  {
   "cell_type": "code",
   "execution_count": null,
   "id": "parental-drill",
   "metadata": {},
   "outputs": [],
   "source": [
    "hm_roc = hm_roc.replace(0,np.nan)\n",
    "hm_roc"
   ]
  },
  {
   "cell_type": "code",
   "execution_count": null,
   "id": "expected-balance",
   "metadata": {},
   "outputs": [],
   "source": [
    "hm_pr = hm_pr.replace(0,np.nan)\n",
    "hm_pr"
   ]
  },
  {
   "cell_type": "code",
   "execution_count": null,
   "id": "010fbc3b-4342-4ebe-8ea6-946ab0b7ceb0",
   "metadata": {},
   "outputs": [],
   "source": []
  },
  {
   "cell_type": "code",
   "execution_count": null,
   "id": "committed-smart",
   "metadata": {},
   "outputs": [],
   "source": [
    "hm_roc.to_csv(path + '_compare_ROC.csv') \n",
    "hm_pr.to_csv(path + '_compare_PR.csv') "
   ]
  },
  {
   "cell_type": "code",
   "execution_count": null,
   "id": "hazardous-mirror",
   "metadata": {},
   "outputs": [],
   "source": [
    "def mk_heatmap(hm, params, title = 'Heatmap'):\n",
    "\n",
    "    hm_norm = hm.rank(axis=1, method='max')\n",
    "\n",
    "    fig, (ax,ax2) = plt.subplots(ncols=1,nrows=2,gridspec_kw=dict(height_ratios=[16,5]),\n",
    "                                 figsize=(8,4),\n",
    "                                 dpi=600)\n",
    "    fig.subplots_adjust(hspace=0.05)\n",
    "    sns.heatmap(hm_norm, square=False, ax=ax, cbar=False, \n",
    "                annot=hm, cmap=\"YlOrRd\",  fmt='g', \n",
    "                xticklabels = False, annot_kws={'size': 4}, yticklabels=True)#, cbar_kws=cbar_kws) #YlOrRd\n",
    "    ax.set_yticklabels(ax.get_yticklabels(),rotation=45)\n",
    "    ax.tick_params(axis=\"y\", labelsize=5)\n",
    "    ax.tick_params(bottom=False)\n",
    "\n",
    "    colors = [\"#FFFFFF\", \"#1D63B4\"]# Set your custom color palette\n",
    "    colors = sns.color_palette(colors)\n",
    "    sns.heatmap(params, ax=ax2, cbar=False, annot_kws={'size': 4}, cmap=colors, xticklabels=False, square=False, yticklabels=True)\n",
    "    ax2.set_yticklabels(ax2.get_yticklabels(),rotation=45)\n",
    "    ax2.tick_params(axis=\"y\", labelsize=5)\n",
    "    ax2.tick_params(bottom=False)\n",
    "    \n",
    "    ax.set_title(title, fontsize=18)\n",
    "\n",
    "\n"
   ]
  },
  {
   "cell_type": "code",
   "execution_count": null,
   "id": "80221fe1-d4aa-4302-bd80-6b2f34c8645e",
   "metadata": {},
   "outputs": [],
   "source": [
    "ordering_pr = hm_pr.mean(axis=1).sort_values(ascending=False).index\n",
    "ordering_roc = hm_roc.mean(axis=1).sort_values(ascending=False).index"
   ]
  },
  {
   "cell_type": "code",
   "execution_count": null,
   "id": "e5144ea8-58a7-4367-8d2a-231c9a131a97",
   "metadata": {},
   "outputs": [],
   "source": [
    "ordering_pr"
   ]
  },
  {
   "cell_type": "code",
   "execution_count": null,
   "id": "63c330ae-b8e0-460a-841c-e2c1fe13b4f5",
   "metadata": {},
   "outputs": [],
   "source": [
    "hm_pr = hm_pr.loc[ordering_pr]\n",
    "hm_roc = hm_roc.loc[ordering_roc]\n",
    "\n",
    "params_pr = params.loc[:,ordering_pr]\n",
    "params_roc = params.loc[:,ordering_roc]\n",
    "\n",
    "hm_pr.to_csv(save_path + 'hm_pr.csv')\n",
    "params_pr.to_csv(save_path + 'params_pr.csv')"
   ]
  },
  {
   "cell_type": "code",
   "execution_count": null,
   "id": "flexible-coupon",
   "metadata": {},
   "outputs": [],
   "source": [
    "mk_heatmap(np.round(hm_roc.T*100,0), params_roc, title = 'Area Uner ROC')\n",
    "\n",
    "plt.savefig(save_path + 'ROC_heatmap.png', dpi=600)\n",
    "mk_heatmap(np.round(hm_pr.T*100,0), params_pr, title = 'Area Uner PRC')\n",
    "\n",
    "plt.savefig(save_path + 'PRC_heatmap.png', dpi=600)\n"
   ]
  },
  {
   "cell_type": "code",
   "execution_count": null,
   "id": "b643b7b2-c87c-433d-9eb2-8457eab7c405",
   "metadata": {},
   "outputs": [],
   "source": [
    "hm = np.round(hm_pr.T*100,0)\n",
    "hm_norm = hm.rank(axis=1, method='max')\n",
    "\n",
    "fig, (ax,ax2) = plt.subplots(ncols=1,nrows=2,gridspec_kw=dict(height_ratios=[16,1]),\n",
    "                             figsize=(0.9*5,0.9*4.5),\n",
    "                             dpi=300)\n",
    "\n",
    "p=sns.heatmap(hm, square=False, ax=ax, cbar=True, cmap=\"YlOrRd\",  fmt='g', \n",
    "            xticklabels = False, annot_kws={'size': 8}, yticklabels=True)#, cbar_kws=cbar_kws) #YlOrRd\n",
    "\n",
    "plt.tight_layout()\n",
    "plt.savefig(save_path + 'PRC_heatmap_CBAR.png', dpi=300)"
   ]
  },
  {
   "cell_type": "code",
   "execution_count": null,
   "id": "subjective-protocol",
   "metadata": {},
   "outputs": [],
   "source": [
    "tmp1 = np.zeros((len(methods)* len(data_names), 8))\n",
    "df_pr = pd.DataFrame(tmp1, columns=['method', 'data_name', 'score', 'knn_feat', 'sim_homo', 'dim_red', 'PU', 'clss'])\n"
   ]
  },
  {
   "cell_type": "code",
   "execution_count": null,
   "id": "owned-salon",
   "metadata": {},
   "outputs": [],
   "source": [
    "j=0\n",
    "for i, method in enumerate(methods):\n",
    "    print(method.split('-'))\n",
    "    pth = paths[i]\n",
    "    print(pth)\n",
    "    #files = [f for f in listdir(pth) if (isfile(join(pth, f)) & (f[-20:]=='ROC_PR_area_TEST.csv'))]\n",
    "    files = [f for f in listdir(pth) if (isfile(join(pth, f)) & ((f[-14:-5]=='_results_') | (f[-7:]=='ALL.csv')))]\n",
    "    for file in files:\n",
    "        \n",
    "        data_name = file.split('_')[0]\n",
    "        \n",
    "        p = join(pth, file)\n",
    "        results = pd.read_csv(p)\n",
    "        \n",
    "        au = float(results.AUPRC)\n",
    "    \n",
    "        df_pr['method'].iloc[j] = method\n",
    "        df_pr['score'].iloc[j] = au\n",
    "        df_pr['data_name'].iloc[j] = data_name\n",
    "        df_pr.iloc[j,3:] = method.split('-')\n",
    "        \n",
    "        j+=1"
   ]
  },
  {
   "cell_type": "code",
   "execution_count": null,
   "id": "sweet-infrared",
   "metadata": {},
   "outputs": [],
   "source": [
    "df_pr"
   ]
  },
  {
   "cell_type": "code",
   "execution_count": null,
   "id": "0244b3c9-60ca-4ac6-92b8-8f095fda6c37",
   "metadata": {},
   "outputs": [],
   "source": [
    "df.groupby(['PU'])['score'].agg('mean').reset_index().sort_values(['score'], ascending=False)"
   ]
  },
  {
   "cell_type": "code",
   "execution_count": null,
   "id": "f98b3727-66a1-475d-97e6-cadda32af6be",
   "metadata": {},
   "outputs": [],
   "source": [
    "save_path"
   ]
  },
  {
   "cell_type": "code",
   "execution_count": null,
   "id": "answering-colony",
   "metadata": {},
   "outputs": [],
   "source": [
    "for col in ['knn_feat', 'sim_homo', 'dim_red', 'PU', 'clss']:\n",
    "    df = df_pr\n",
    "    \n",
    "    sns.set(rc={\"figure.figsize\":(6, 4)})\n",
    "    sns.set_style(\"white\")\n",
    "\n",
    "    fig, ax1 = plt.subplots()\n",
    "    v = sns.violinplot(x=col, y='score', data=df, inner=None, linewidth=1, color='white')# ax2.set_aspect(\"equal\")\n",
    "    plt.setp(v.collections, alpha=.3)\n",
    "\n",
    "    sns.swarmplot(x=col, y='score', data=df, hue='data_name', palette=sns.color_palette(\"hls\", 16), dodge=False, size=3)\n",
    "\n",
    "    plt.ylabel('AUPRC', fontsize=14)\n",
    "    plt.xlabel('')\n",
    "    plt.title(col, fontsize=14)\n",
    "    plt.legend(bbox_to_anchor=(1,1), loc=\"upper left\", fontsize=7.9)\n",
    "\n",
    "    plt.tight_layout()\n",
    "    plt.savefig(save_path + col + '_PR_violin.png', dpi=300)\n",
    "    plt.show()\n",
    "    plt.close()"
   ]
  },
  {
   "cell_type": "code",
   "execution_count": null,
   "id": "7cc39b66-5b26-4357-aa5b-c4818fc5881a",
   "metadata": {},
   "outputs": [],
   "source": []
  }
 ],
 "metadata": {
  "kernelspec": {
   "display_name": "newenv",
   "language": "python",
   "name": "newenv"
  },
  "language_info": {
   "codemirror_mode": {
    "name": "ipython",
    "version": 3
   },
   "file_extension": ".py",
   "mimetype": "text/x-python",
   "name": "python",
   "nbconvert_exporter": "python",
   "pygments_lexer": "ipython3",
   "version": "3.8.5"
  }
 },
 "nbformat": 4,
 "nbformat_minor": 5
}
