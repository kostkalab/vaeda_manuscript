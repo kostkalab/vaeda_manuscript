{
 "cells": [
  {
   "cell_type": "code",
   "execution_count": null,
   "id": "based-address",
   "metadata": {},
   "outputs": [],
   "source": [
    "import numpy as np\n",
    "from numpy import *\n",
    "import pandas as pd\n",
    "\n",
    "import matplotlib.pyplot as plt\n",
    "import seaborn as sns\n",
    "\n",
    "from os import listdir\n",
    "from os.path import isfile, join, isdir"
   ]
  },
  {
   "cell_type": "code",
   "execution_count": null,
   "id": "cc4f22c1-f204-4a8f-9065-5cda7621457f",
   "metadata": {},
   "outputs": [],
   "source": [
    "#from plot_results import get_dbl_metrics\n",
    "import sys\n",
    "import pandas as pd\n",
    "import numpy as np\n",
    "\n",
    "from sklearn import metrics\n",
    "from sklearn.metrics import precision_recall_curve, accuracy_score, average_precision_score\n",
    "\n",
    "import matplotlib.pyplot as plt\n",
    "\n",
    "def get_dbl_metrics(test, score):\n",
    "\tfpr, tpr, thresholds = metrics.roc_curve(test, score, pos_label=1)\n",
    "\trauc = metrics.auc(fpr, tpr)\n",
    "\n",
    "\tprecision, recall, thresholds = precision_recall_curve(test, score, pos_label=1)\n",
    "\tprauc = metrics.auc(recall, precision)\n",
    "\t\n",
    "\tap = average_precision_score(test, score)\n",
    "\treturn rauc, prauc, ap"
   ]
  },
  {
   "cell_type": "code",
   "execution_count": null,
   "id": "51c8dbc3-b51d-4055-a636-8443dbfabd5b",
   "metadata": {},
   "outputs": [],
   "source": [
    "save_path = '../results_manuscript/heatmaps/'\n"
   ]
  },
  {
   "cell_type": "code",
   "execution_count": null,
   "id": "3e03c4ea-f7fc-4787-bfc5-86e4efca569f",
   "metadata": {},
   "outputs": [],
   "source": [
    "path = '../results_benchmark/'\n",
    "files = [f.split('_') for f in listdir(path) if (isfile(join(path, f)) & (f[-3:]=='csv'))]\n",
    "files = np.array(files)\n",
    "files"
   ]
  },
  {
   "cell_type": "code",
   "execution_count": null,
   "id": "cb189983-ccd7-459a-8f89-68af160e47a5",
   "metadata": {},
   "outputs": [],
   "source": [
    "data_names = np.sort(np.unique(files[:,0]))\n",
    "methods = np.unique(files[:,1])"
   ]
  },
  {
   "cell_type": "code",
   "execution_count": null,
   "id": "cleared-adapter",
   "metadata": {},
   "outputs": [],
   "source": [
    "tmp1 = np.zeros((len(methods), len(data_names)))\n",
    "tmp2 = np.zeros((len(methods), len(data_names)))\n",
    "hm_pr = pd.DataFrame(tmp1, index=methods, columns=np.sort(data_names))\n",
    "hm_roc = pd.DataFrame(tmp2, index=methods, columns=np.sort(data_names))\n",
    "\n",
    "tmp3 = np.zeros((1, len(data_names)))\n",
    "weights = pd.DataFrame(tmp3, index=['number of cells'], columns=np.sort(data_names))"
   ]
  },
  {
   "cell_type": "code",
   "execution_count": null,
   "id": "c39ff314-347c-4cc7-a816-5dd8ea184cc9",
   "metadata": {},
   "outputs": [],
   "source": [
    "for file in files:\n",
    "    res = pd.read_csv(path + '_'.join(file))\n",
    "    \n",
    "    ano_path  = '../data/mtx_files/' + file[0] + '_anno.csv'\n",
    "\n",
    "    #- READ IN BARCODE ANNOTATIONS\n",
    "    ano = pd.read_csv(ano_path)\n",
    "    true = pd.factorize(ano.x)[0]\n",
    "    labels = ano.x\n",
    "    if (labels[0]=='doublet'):\n",
    "        tmp = true + 3\n",
    "        tmp[tmp==3] = 1\n",
    "        tmp[tmp==4] = 0\n",
    "        true = tmp\n",
    "    \n",
    "    score_roc, score_pr, _ = get_dbl_metrics(true, res['doublet_scores'])\n",
    "    plt.close()\n",
    "    \n",
    "    method = file[1]\n",
    "    data_name = file[0]\n",
    "    \n",
    "    weights[data_name].loc['number of cells'] = len(true)\n",
    "        \n",
    "    hm_roc[data_name].loc[method] = score_roc\n",
    "    hm_pr[data_name].loc[method] = score_pr\n",
    "    "
   ]
  },
  {
   "cell_type": "code",
   "execution_count": null,
   "id": "parental-drill",
   "metadata": {},
   "outputs": [],
   "source": [
    "hm_roc = hm_roc.replace(0,np.nan)\n",
    "hm_roc = hm_roc.iloc[np.argsort(-1*hm_roc.mean(axis=1)),:]\n",
    "hm_roc"
   ]
  },
  {
   "cell_type": "code",
   "execution_count": null,
   "id": "expected-balance",
   "metadata": {},
   "outputs": [],
   "source": [
    "hm_pr = hm_pr.replace(0,np.nan)\n",
    "hm_pr = hm_pr.iloc[np.argsort(-1*hm_pr.mean(axis=1)),:]\n",
    "hm_pr"
   ]
  },
  {
   "cell_type": "code",
   "execution_count": null,
   "id": "committed-smart",
   "metadata": {},
   "outputs": [],
   "source": [
    "hm_roc.to_csv(save_path + 'ROC.csv') \n",
    "hm_pr.to_csv(save_path + 'PR.csv') "
   ]
  },
  {
   "cell_type": "code",
   "execution_count": null,
   "id": "ace16618-99a6-499b-944e-f7e660cd46d4",
   "metadata": {},
   "outputs": [],
   "source": [
    "def mk_heatmap(hm, title = 'Heatmap'):\n",
    "\n",
    "    hm_norm = hm.rank(axis=1, method='max')\n",
    "\n",
    "    fig, (ax,ax2) = plt.subplots(ncols=1,nrows=2,gridspec_kw=dict(height_ratios=[16,1]),\n",
    "                                 figsize=(0.9*5,0.9*4.5),\n",
    "                                 dpi=300)\n",
    "    \n",
    "    sns.heatmap(hm_norm, square=False, ax=ax, cbar=False, \n",
    "                annot=hm, cmap=\"YlOrRd\",  fmt='g', \n",
    "                xticklabels = False, annot_kws={'size': 8}, yticklabels=True)#, cbar_kws=cbar_kws) #YlOrRd\n",
    "    ax.set_yticklabels(ax.get_yticklabels(),rotation=45)\n",
    "    ax.tick_params(axis=\"y\", labelsize=8)\n",
    "    ax.tick_params(bottom=False)\n",
    "\n",
    "    \n",
    "    \n",
    "    hm = np.round(pd.DataFrame(hm.mean(axis=0)).T, 1) \n",
    "    hm.index = ['mean']\n",
    "\n",
    "    sns.heatmap(hm, square=False, cbar=False, annot=hm, cmap=\"YlOrRd\",  fmt='g',\n",
    "               xticklabels=True, yticklabels=True, annot_kws={'size': 8})#, cbar_kws=cbar_kws) #YlOrRd\n",
    "    ax2.set_yticklabels(ax2.get_yticklabels(),rotation=45)\n",
    "    ax2.set_xticklabels(ax2.get_xticklabels(),rotation=45, horizontalalignment='right')\n",
    "    ax2.tick_params(axis=\"y\", labelsize=8)\n",
    "    #a.xticks(rotation=45, horizontalalignment='right')\n",
    "    ax2.tick_params(axis=\"x\", labelsize=10)\n",
    "\n",
    "    ax.set_title(title, fontsize=18)\n",
    "    \n",
    "    plt.tight_layout()\n",
    "    fig.subplots_adjust(hspace=0.05)\n",
    "    fig.subplots_adjust(wspace=10)"
   ]
  },
  {
   "cell_type": "code",
   "execution_count": null,
   "id": "80221fe1-d4aa-4302-bd80-6b2f34c8645e",
   "metadata": {},
   "outputs": [],
   "source": [
    "save_path"
   ]
  },
  {
   "cell_type": "code",
   "execution_count": null,
   "id": "flexible-coupon",
   "metadata": {},
   "outputs": [],
   "source": [
    "mk_heatmap(np.round(hm_roc.T*100,0), title = 'Area Under ROC')\n",
    "plt.savefig(save_path + 'ROC_heatmap.png', dpi=300)\n",
    "mk_heatmap(np.round(hm_pr.T*100,0), title = 'Area Under PRC')\n",
    "plt.savefig(save_path + 'PRC_heatmap.png', dpi=300)\n"
   ]
  },
  {
   "cell_type": "code",
   "execution_count": null,
   "id": "5aaa6560-5a13-4a8d-acb7-6fb40a789483",
   "metadata": {},
   "outputs": [],
   "source": [
    "hm = np.round(hm_pr.T*100,0)\n",
    "hm_norm = hm.rank(axis=1, method='max')\n",
    "\n",
    "fig, (ax,ax2) = plt.subplots(ncols=1,nrows=2,gridspec_kw=dict(height_ratios=[16,1]),\n",
    "                             figsize=(0.9*5,0.9*4.5),\n",
    "                             dpi=300)\n",
    "\n",
    "p=sns.heatmap(hm, square=False, ax=ax, cbar=True, cmap=\"YlOrRd\",  fmt='g', \n",
    "            xticklabels = False, annot_kws={'size': 8}, yticklabels=True)#, cbar_kws=cbar_kws) #YlOrRd\n",
    "\n",
    "plt.tight_layout()\n",
    "plt.savefig(save_path + 'PRC_heatmap_CBAR.png', dpi=300)\n"
   ]
  },
  {
   "cell_type": "code",
   "execution_count": null,
   "id": "e5b4b4e6-c71d-421e-b39c-4f5095b70f11",
   "metadata": {},
   "outputs": [],
   "source": [
    "w = weights.divide(int(np.sum(weights, axis=1)))\n",
    "weighted_average = hm_roc.multiply(w.T['number of cells'], axis=1).sum(axis=1)"
   ]
  },
  {
   "cell_type": "code",
   "execution_count": null,
   "id": "5608897f-5d3b-4e1b-81f8-473549e5b7c6",
   "metadata": {},
   "outputs": [],
   "source": [
    "plt.figure(figsize=(4,.25),  dpi=300)\n",
    "\n",
    "hm = np.round(pd.DataFrame(weighted_average).T *100, 1) \n",
    "hm.index = ['weighted average']\n",
    "\n",
    "ax=sns.heatmap(hm, square=False, cbar=False, annot=hm, cmap=\"YlOrRd\",  fmt='g')#, cbar_kws=cbar_kws) #YlOrRd\n",
    "ax.set_yticklabels(ax.get_yticklabels(),rotation=45)\n",
    "ax.set_xticklabels(ax.get_xticklabels(),rotation=90)\n",
    "ax.set_title('ROC Mean', fontsize=12)\n",
    "\n",
    "plt.tight_layout()"
   ]
  },
  {
   "cell_type": "code",
   "execution_count": null,
   "id": "002910c0-ca7a-4187-931b-f0602d09fde4",
   "metadata": {},
   "outputs": [],
   "source": [
    "w = weights.divide(int(np.sum(weights, axis=1)))\n",
    "weighted_average = hm_pr.multiply(w.T['number of cells'], axis=1).sum(axis=1)"
   ]
  },
  {
   "cell_type": "code",
   "execution_count": null,
   "id": "cf2eb043-e7bc-4f07-aee6-f5e5b294cfb1",
   "metadata": {},
   "outputs": [],
   "source": [
    "plt.figure(figsize=(4,.25),  dpi=300)\n",
    "\n",
    "hm = np.round(pd.DataFrame(weighted_average).T *100, 1) \n",
    "hm.index = ['weighted average']\n",
    "\n",
    "ax=sns.heatmap(hm, square=False, cbar=False, annot=hm, cmap=\"YlOrRd\",  fmt='g')#, cbar_kws=cbar_kws) #YlOrRd\n",
    "ax.set_yticklabels(ax.get_yticklabels(),rotation=45)\n",
    "ax.set_xticklabels(ax.get_xticklabels(),rotation=90)\n",
    "ax.set_title('PRC Mean', fontsize=12)\n",
    "\n",
    "plt.tight_layout()"
   ]
  },
  {
   "cell_type": "code",
   "execution_count": null,
   "id": "cca74fd9-4e59-4635-bfc1-1410be99dd86",
   "metadata": {},
   "outputs": [],
   "source": []
  },
  {
   "cell_type": "code",
   "execution_count": null,
   "id": "1ea52cff-6dc4-4ef3-8372-cea6f5ad8aab",
   "metadata": {},
   "outputs": [],
   "source": []
  },
  {
   "cell_type": "code",
   "execution_count": null,
   "id": "9b23ffb9-d40c-46de-bd96-65ff67935e74",
   "metadata": {},
   "outputs": [],
   "source": []
  },
  {
   "cell_type": "code",
   "execution_count": null,
   "id": "f6f91b0a-17d4-4fc5-9f74-630199a4fc99",
   "metadata": {},
   "outputs": [],
   "source": []
  },
  {
   "cell_type": "code",
   "execution_count": null,
   "id": "4eac91dd-5ec3-40f5-8fb9-6bd0f8b7b497",
   "metadata": {},
   "outputs": [],
   "source": []
  }
 ],
 "metadata": {
  "kernelspec": {
   "display_name": "newenv",
   "language": "python",
   "name": "newenv"
  },
  "language_info": {
   "codemirror_mode": {
    "name": "ipython",
    "version": 3
   },
   "file_extension": ".py",
   "mimetype": "text/x-python",
   "name": "python",
   "nbconvert_exporter": "python",
   "pygments_lexer": "ipython3",
   "version": "3.8.5"
  }
 },
 "nbformat": 4,
 "nbformat_minor": 5
}
