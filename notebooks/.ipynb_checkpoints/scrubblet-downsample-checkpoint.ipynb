{
 "cells": [
  {
   "cell_type": "code",
   "execution_count": 42,
   "id": "81cb1314-f4fb-47ee-baa3-194cf1b8ef1c",
   "metadata": {},
   "outputs": [
    {
     "name": "stdout",
     "output_type": "stream",
     "text": [
      "START\n",
      "data: HMEC-orig-MULTI\n",
      "data: HMEC-orig-MULTI\n",
      "frac: 0.05\n",
      "rep: 0\n"
     ]
    },
    {
     "ename": "IndexError",
     "evalue": "index 26108 is out of bounds for axis 0 with size 24199",
     "output_type": "error",
     "traceback": [
      "\u001b[0;31m---------------------------------------------------------------------------\u001b[0m",
      "\u001b[0;31mIndexError\u001b[0m                                Traceback (most recent call last)",
      "\u001b[0;32m/tmp/ipykernel_14720/2020596307.py\u001b[0m in \u001b[0;36m<module>\u001b[0;34m\u001b[0m\n\u001b[1;32m    113\u001b[0m             \u001b[0mkeep_ind\u001b[0m \u001b[0;34m=\u001b[0m \u001b[0mnp\u001b[0m\u001b[0;34m.\u001b[0m\u001b[0mload\u001b[0m\u001b[0;34m(\u001b[0m\u001b[0mind_path\u001b[0m\u001b[0;34m)\u001b[0m\u001b[0;34m\u001b[0m\u001b[0;34m\u001b[0m\u001b[0m\n\u001b[1;32m    114\u001b[0m \u001b[0;34m\u001b[0m\u001b[0m\n\u001b[0;32m--> 115\u001b[0;31m             \u001b[0mXr\u001b[0m \u001b[0;34m=\u001b[0m \u001b[0mXr_keep\u001b[0m\u001b[0;34m[\u001b[0m\u001b[0mkeep_ind\u001b[0m\u001b[0;34m,\u001b[0m\u001b[0;34m:\u001b[0m\u001b[0;34m]\u001b[0m\u001b[0;34m\u001b[0m\u001b[0;34m\u001b[0m\u001b[0m\n\u001b[0m\u001b[1;32m    116\u001b[0m             \u001b[0mtrue\u001b[0m \u001b[0;34m=\u001b[0m \u001b[0mtrue_keep\u001b[0m\u001b[0;34m[\u001b[0m\u001b[0mkeep_ind\u001b[0m\u001b[0;34m]\u001b[0m\u001b[0;34m\u001b[0m\u001b[0;34m\u001b[0m\u001b[0m\n\u001b[1;32m    117\u001b[0m             \u001b[0mlabels\u001b[0m \u001b[0;34m=\u001b[0m \u001b[0mlabels_keep\u001b[0m\u001b[0;34m[\u001b[0m\u001b[0mkeep_ind\u001b[0m\u001b[0;34m]\u001b[0m\u001b[0;34m\u001b[0m\u001b[0;34m\u001b[0m\u001b[0m\n",
      "\u001b[0;31mIndexError\u001b[0m: index 26108 is out of bounds for axis 0 with size 24199"
     ]
    }
   ],
   "source": [
    "data_dir = 'sce_normalized_data_inflate'\n",
    "import scipy.sparse as scs\n",
    "from os import listdir\n",
    "from os.path import isfile, join\n",
    "import os\n",
    "from plot_results import get_dbl_metrics\n",
    "save=True\n",
    "\n",
    "import sys\n",
    "import numpy as np\n",
    "from numpy import *\n",
    "import pandas as pd\n",
    "\n",
    "from scipy import sparse\n",
    "from sklearn import preprocessing\n",
    "import pathlib as pl\n",
    "\n",
    "import matplotlib.pyplot as plt\n",
    "\n",
    "from sklearn import metrics\n",
    "from sklearn.linear_model import Lasso\n",
    "\n",
    "import scrublet as scr\n",
    "from sklearn.metrics import precision_recall_curve, accuracy_score, average_precision_score\n",
    "from scipy.io import mmread\n",
    "\n",
    "print('START')\n",
    "##########\n",
    "#functions\n",
    "\n",
    "\n",
    "##########\n",
    "#READ IN DATA\n",
    "#file = pl.Path(sys.argv[1])\n",
    "#dat = np.load(file)\n",
    "#ano_path = sys.argv[2]\n",
    "#ano = pd.read_csv(ano_path)\n",
    "#y = np.squeeze(np.array((ano.doublet_true_labels=='Doublet')|(ano.doublet_true_labels=='doublet')).astype(float))\n",
    "#data_name = sys.argv[3]\n",
    "#save_path = sys.argv[4] + '/scrublet_out/' + data_name\n",
    "\n",
    "fracs = [0.95, 0.9, 0.75, 0.5, 0.25, 0.1, 0.05]\n",
    "data_names = ['HEK-HMEC-MULTI','HMEC-orig-MULTI', 'HMEC-rep-MULTI', 'J293t-dm',\n",
    "       'cline-ch', 'hm-12k', 'hm-6k', 'nuc-MULTI', 'mkidney-ch',\n",
    "       'pbmc-1A-dm', 'pbmc-1B-dm', 'pbmc-1C-dm', 'pbmc-2ctrl-dm',\n",
    "       'pbmc-2stim-dm','pbmc-ch', 'pdx-MULTI']\n",
    "reps = range(10)\n",
    "\n",
    "\n",
    "data_names = ['HMEC-orig-MULTI']\n",
    "fracs=[0.05]\n",
    "reps=[0]\n",
    "\n",
    "\n",
    "for data_name in data_names:\n",
    "\n",
    "    print('data:',data_name) \n",
    "\n",
    "\n",
    "    #scvae-dbl-btch/data/sce_normalized_data_inflate/pdx-MULTI_real_logcounts.mtx\n",
    "    #npz_real_path = '../data/npz_objs/' + data_name + '_real_counts.npz'\n",
    "    #ano_path  = '../data/'+ data_dir + '/' + data_name + '_anno.csv'\n",
    "\n",
    "    #- READ IN COUNTS\n",
    "    #npz_real = pl.Path(npz_real_path)\n",
    "\n",
    "    #if (npz_real.exists()):\n",
    "    #    print('loading in real npz')\n",
    "    #    dat_real = scs.load_npz(npz_real)\n",
    "    #else:\n",
    "    #    print('does not exist')\n",
    "    #    quit()\n",
    "\n",
    "    real_path = '../data/mtx_files/' + data_name + '.mtx'\n",
    "    ano_path  = '../data/mtx_files/' + data_name + '_anno.csv'\n",
    "    \n",
    "    dat_real = mmread(real_path)\n",
    "    Xr = scs.csr_matrix(dat_real).toarray().T\n",
    "    \n",
    "    #- READ IN BARCODE ANNOTATIONS\n",
    "    ano = pd.read_csv(ano_path)\n",
    "    true = pd.factorize(ano.x)[0]\n",
    "    labels = ano.x\n",
    "    if (labels[0]=='doublet'):\n",
    "        tmp = true + 3\n",
    "        tmp[tmp==3] = 1\n",
    "        tmp[tmp==4] = 0\n",
    "        true = tmp\n",
    "    true_keep=true\n",
    "    labels_keep=labels\n",
    "    \n",
    "    #Xr_keep = scs.csr_matrix(dat_real).toarray()\n",
    "\n",
    "    for frac in fracs:\n",
    "        for i in reps:\n",
    "            \n",
    "            print('data:',data_name) \n",
    "            print('frac:',frac)\n",
    "            print('rep:',i)\n",
    "            \n",
    "            save_path = '../results_PU/downsample_cells/scrublet'\n",
    "            if not os.path.exists(save_path):\n",
    "                os.makedirs(save_path)\n",
    "            save_path = save_path + '/' + data_name + '_frac' + str(frac) + '_rep' + str(i) + '_'\n",
    "\n",
    "            ind_path = '../results_PU/downsample_cells/vaeda/' + data_name + '_frac' + str(frac) + '_rep' + str(i) + '_ind.npy'\n",
    "\n",
    "            ############################################################\n",
    "            ####################### DOWN SAMPLE ########################\n",
    "            ############################################################\n",
    "\n",
    "            #split so that retains same fraction of real doublets\n",
    "            keep_ind = np.load(ind_path)\n",
    "\n",
    "            Xr = Xr_keep[keep_ind,:]\n",
    "            true = true_keep[keep_ind]\n",
    "            labels = labels_keep[keep_ind]\n",
    "\n",
    "\n",
    "            ##########\n",
    "            #SCRUBLET\n",
    "            scrub = scr.Scrublet(Xr)\n",
    "            doublet_scores, predicted_doublets = scrub.scrub_doublets()\n",
    "            \n",
    "            if np.any(predicted_doublets==None):\n",
    "                res = pd.DataFrame(np.vstack([true, doublet_scores]).T, columns=['ano', 'doublet_scores'])\n",
    "            else:\n",
    "                res = pd.DataFrame(np.vstack([true, doublet_scores, predicted_doublets]).T, columns=['ano', 'doublet_scores', 'predicted_doublets'])\n",
    "            res.to_csv(save_path + 'scores.csv') \n",
    "            \n",
    "\n",
    "            #SAVE SCORES\n",
    "            tmp1 = np.zeros((len(labels), 2))\n",
    "            df = pd.DataFrame(tmp1, index=labels, columns=['annotation', 'score'])\n",
    "            df.annotation = labels\n",
    "            df.score = doublet_scores\n",
    "            #if(save):\n",
    "            #    df.to_csv(save_path + data_name + '_scores.csv') \n",
    "\n",
    "            #PR and ROC curves\n",
    "            res = get_dbl_metrics(true, doublet_scores)\n",
    "            plt.close()\n",
    "\n",
    "            #save AUCs\n",
    "            hm_pr = pd.DataFrame(np.array(res).T, index=['AUROC', 'AUPRC', 'AP']).T\n",
    "            if(save):\n",
    "                hm_pr.to_csv(save_path + 'scores_ROC_PR_area_ALL.csv') \n",
    "\n",
    "print('DONE')"
   ]
  },
  {
   "cell_type": "code",
   "execution_count": null,
   "id": "f1aee59c-6d89-4695-825a-576b0670fddb",
   "metadata": {},
   "outputs": [],
   "source": [
    "print('done')"
   ]
  },
  {
   "cell_type": "code",
   "execution_count": 43,
   "id": "44cf3c9f-1762-4237-9b8a-b266013042fb",
   "metadata": {},
   "outputs": [
    {
     "data": {
      "text/plain": [
       "(24199, 26426)"
      ]
     },
     "execution_count": 43,
     "metadata": {},
     "output_type": "execute_result"
    }
   ],
   "source": [
    "Xr_keep.shape"
   ]
  },
  {
   "cell_type": "code",
   "execution_count": 44,
   "id": "519f6c9d-ab92-42eb-993a-7f71715db541",
   "metadata": {},
   "outputs": [
    {
     "data": {
      "text/plain": [
       "'../results_PU/downsample_cells/vaeda/HMEC-orig-MULTI_frac0.05_rep0_ind.npy'"
      ]
     },
     "execution_count": 44,
     "metadata": {},
     "output_type": "execute_result"
    }
   ],
   "source": [
    "ind_path"
   ]
  },
  {
   "cell_type": "code",
   "execution_count": 46,
   "id": "d4723f3f-8d37-425c-bbbd-75b5fafd8c7c",
   "metadata": {},
   "outputs": [
    {
     "data": {
      "text/plain": [
       "26390"
      ]
     },
     "execution_count": 46,
     "metadata": {},
     "output_type": "execute_result"
    }
   ],
   "source": [
    "max(keep_ind)"
   ]
  },
  {
   "cell_type": "code",
   "execution_count": null,
   "id": "2d53c4fc-9cb1-4a7f-a1b0-0b51eeb01977",
   "metadata": {},
   "outputs": [],
   "source": []
  }
 ],
 "metadata": {
  "kernelspec": {
   "display_name": "newenv",
   "language": "python",
   "name": "newenv"
  },
  "language_info": {
   "codemirror_mode": {
    "name": "ipython",
    "version": 3
   },
   "file_extension": ".py",
   "mimetype": "text/x-python",
   "name": "python",
   "nbconvert_exporter": "python",
   "pygments_lexer": "ipython3",
   "version": "3.8.5"
  }
 },
 "nbformat": 4,
 "nbformat_minor": 5
}
