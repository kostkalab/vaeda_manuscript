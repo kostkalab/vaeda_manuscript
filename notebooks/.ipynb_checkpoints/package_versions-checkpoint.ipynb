{
 "cells": [
  {
   "cell_type": "code",
   "execution_count": 1,
   "id": "2dfbb008-00fe-4c5c-9ddf-4329bac2df94",
   "metadata": {},
   "outputs": [
    {
     "name": "stderr",
     "output_type": "stream",
     "text": [
      "2021-10-04 18:47:53.843778: W tensorflow/stream_executor/platform/default/dso_loader.cc:60] Could not load dynamic library 'libcudart.so.11.0'; dlerror: libcudart.so.11.0: cannot open shared object file: No such file or directory\n",
      "2021-10-04 18:47:53.843813: I tensorflow/stream_executor/cuda/cudart_stub.cc:29] Ignore above cudart dlerror if you do not have a GPU set up on your machine.\n"
     ]
    }
   ],
   "source": [
    "import numpy as np\n",
    "import scipy.sparse as scs\n",
    "from scipy.stats import multinomial\n",
    "import pathlib as pl\n",
    "import pandas as pd\n",
    "import matplotlib.pyplot as plt\n",
    "from scipy.io import mmread\n",
    "\n",
    "import umap as um\n",
    "\n",
    "\n",
    "from os import listdir\n",
    "from os.path import isfile, join\n",
    "import os\n",
    "\n",
    "import random\n",
    "\n",
    "from sklearn.decomposition import PCA\n",
    "from sklearn.neighbors import NearestNeighbors\n",
    "\n",
    "import seaborn as sns\n",
    "\n",
    "from sklearn.preprocessing import StandardScaler\n",
    "\n",
    "import random\n",
    "from sklearn import metrics\n",
    "from sklearn.metrics import precision_recall_curve, accuracy_score, average_precision_score\n",
    "\n",
    "\n",
    "import tensorflow as tf\n",
    "\n",
    "import os\n",
    "import pickle\n",
    "\n",
    "from plot_results import get_dbl_metrics\n",
    "\n",
    "import seaborn as sns\n",
    "\n",
    "from sklearn.model_selection import train_test_split"
   ]
  },
  {
   "cell_type": "code",
   "execution_count": 2,
   "id": "de6c4e98-98ab-4686-99bb-3950829b5d99",
   "metadata": {},
   "outputs": [],
   "source": [
    "from __future__ import absolute_import, division, print_function, unicode_literals\n",
    "import tensorflow_probability as tfp\n"
   ]
  },
  {
   "cell_type": "code",
   "execution_count": 3,
   "id": "87b3cacd-82d8-41cd-886f-66e28cb5873a",
   "metadata": {},
   "outputs": [],
   "source": [
    "import rpy2"
   ]
  },
  {
   "cell_type": "code",
   "execution_count": 4,
   "id": "106c3dc1-a0d3-4780-abc3-acd64ef7d4f0",
   "metadata": {},
   "outputs": [
    {
     "data": {
      "text/plain": [
       "'3.8.5'"
      ]
     },
     "execution_count": 4,
     "metadata": {},
     "output_type": "execute_result"
    }
   ],
   "source": [
    "from platform import python_version\n",
    "\n",
    "python_version()\n",
    "\n",
    "#python3\n",
    "#3.8.5"
   ]
  },
  {
   "cell_type": "code",
   "execution_count": 5,
   "id": "0b4b61ad-5c12-4528-9d12-dffa426c953a",
   "metadata": {},
   "outputs": [
    {
     "data": {
      "text/plain": [
       "'1.19.2'"
      ]
     },
     "execution_count": 5,
     "metadata": {},
     "output_type": "execute_result"
    }
   ],
   "source": [
    "np.__version__\n",
    "\n",
    "#python3\n",
    "#1.19.5"
   ]
  },
  {
   "cell_type": "code",
   "execution_count": 6,
   "id": "6a6ac6c5-335a-4d75-b01a-72bd94687fc0",
   "metadata": {},
   "outputs": [
    {
     "data": {
      "text/plain": [
       "'1.6.2'"
      ]
     },
     "execution_count": 6,
     "metadata": {},
     "output_type": "execute_result"
    }
   ],
   "source": [
    "import scipy\n",
    "scipy.__version__\n",
    "\n",
    "#python3\n",
    "#'1.6.2'"
   ]
  },
  {
   "cell_type": "code",
   "execution_count": 7,
   "id": "1f781647-3b01-4ee7-997b-e560088570c2",
   "metadata": {},
   "outputs": [
    {
     "data": {
      "text/plain": [
       "'1.2.4'"
      ]
     },
     "execution_count": 7,
     "metadata": {},
     "output_type": "execute_result"
    }
   ],
   "source": [
    "import pandas\n",
    "pandas.__version__\n",
    "\n",
    "#python3\n",
    "#'1.2.4'"
   ]
  },
  {
   "cell_type": "code",
   "execution_count": 8,
   "id": "f450dfe3-7310-41b0-997c-fba571ff78dd",
   "metadata": {},
   "outputs": [
    {
     "data": {
      "text/plain": [
       "'3.4.2'"
      ]
     },
     "execution_count": 8,
     "metadata": {},
     "output_type": "execute_result"
    }
   ],
   "source": [
    "import matplotlib\n",
    "matplotlib.__version__\n",
    "\n",
    "#python3\n",
    "#'3.4.1'"
   ]
  },
  {
   "cell_type": "code",
   "execution_count": 9,
   "id": "48f3142c-a0f2-4639-9eea-f7e909e1b71a",
   "metadata": {},
   "outputs": [
    {
     "data": {
      "text/plain": [
       "'0.24.2'"
      ]
     },
     "execution_count": 9,
     "metadata": {},
     "output_type": "execute_result"
    }
   ],
   "source": [
    "import sklearn\n",
    "sklearn.__version__\n",
    "\n",
    "#python3\n",
    "#'0.24.2'"
   ]
  },
  {
   "cell_type": "code",
   "execution_count": 10,
   "id": "d8af4e90-0bfa-4a7e-98b0-4f699486f13f",
   "metadata": {},
   "outputs": [
    {
     "data": {
      "text/plain": [
       "'2.4.0'"
      ]
     },
     "execution_count": 10,
     "metadata": {},
     "output_type": "execute_result"
    }
   ],
   "source": [
    "tf.__version__\n",
    "\n",
    "#python3\n",
    "#'2.4.0'"
   ]
  },
  {
   "cell_type": "code",
   "execution_count": 11,
   "id": "7a264b99-688c-46bc-9f70-e2e92843e0ef",
   "metadata": {},
   "outputs": [
    {
     "data": {
      "text/plain": [
       "'0.11.1'"
      ]
     },
     "execution_count": 11,
     "metadata": {},
     "output_type": "execute_result"
    }
   ],
   "source": [
    "sns.__version__\n",
    "\n",
    "#python3\n",
    "#'0.11.1'"
   ]
  },
  {
   "cell_type": "code",
   "execution_count": 12,
   "id": "8893889a-96a7-4fbb-bb8a-86487d7f4a5d",
   "metadata": {},
   "outputs": [
    {
     "data": {
      "text/plain": [
       "'0.12.1'"
      ]
     },
     "execution_count": 12,
     "metadata": {},
     "output_type": "execute_result"
    }
   ],
   "source": [
    "tfp.__version__\n",
    "\n",
    "#python3\n",
    "#0.12.1"
   ]
  },
  {
   "cell_type": "code",
   "execution_count": 13,
   "id": "a1b3d624-8802-42b2-95a4-086ef97ff4fa",
   "metadata": {},
   "outputs": [
    {
     "data": {
      "text/plain": [
       "'3.4.5'"
      ]
     },
     "execution_count": 13,
     "metadata": {},
     "output_type": "execute_result"
    }
   ],
   "source": [
    "rpy2.__version__\n",
    "\n",
    "#python3\n",
    "#NA"
   ]
  },
  {
   "cell_type": "code",
   "execution_count": 14,
   "id": "2a6399b4-131f-4b90-b7bd-ab4cf18d3283",
   "metadata": {},
   "outputs": [
    {
     "ename": "SyntaxError",
     "evalue": "invalid syntax (1446485151.py, line 1)",
     "output_type": "error",
     "traceback": [
      "\u001b[0;36m  File \u001b[0;32m\"/tmp/ipykernel_14146/1446485151.py\"\u001b[0;36m, line \u001b[0;32m1\u001b[0m\n\u001b[0;31m    *conda install numpy=1.19.5\u001b[0m\n\u001b[0m           ^\u001b[0m\n\u001b[0;31mSyntaxError\u001b[0m\u001b[0;31m:\u001b[0m invalid syntax\n"
     ]
    }
   ],
   "source": [
    "*conda install numpy=1.19.5\n",
    "conda install scipy=1.6.2\n",
    "conda install pandas=1.2.4\n",
    "conda install matplotlib=3.4.1\n",
    "conda install sklearn=0.24.2\n",
    "conda install tensorflow=2.4.0\n",
    "conda install seaborn=0.11.1\n",
    "conda install tensorflow-probability=0.12.1\n",
    "conda install umap-learn\n",
    "pip install rpy2"
   ]
  },
  {
   "cell_type": "code",
   "execution_count": null,
   "id": "a668f7ca-4681-4dbd-98fe-a75fb5eeb8ab",
   "metadata": {},
   "outputs": [],
   "source": []
  },
  {
   "cell_type": "code",
   "execution_count": 2,
   "id": "10e24b97-cbcb-49cf-ae33-c31de4e9d756",
   "metadata": {},
   "outputs": [],
   "source": []
  },
  {
   "cell_type": "code",
   "execution_count": null,
   "id": "54044133-7fe1-4c13-9c51-ce6a70262f06",
   "metadata": {},
   "outputs": [],
   "source": []
  }
 ],
 "metadata": {
  "kernelspec": {
   "display_name": "newenv",
   "language": "python",
   "name": "newenv"
  },
  "language_info": {
   "codemirror_mode": {
    "name": "ipython",
    "version": 3
   },
   "file_extension": ".py",
   "mimetype": "text/x-python",
   "name": "python",
   "nbconvert_exporter": "python",
   "pygments_lexer": "ipython3",
   "version": "3.8.5"
  }
 },
 "nbformat": 4,
 "nbformat_minor": 5
}
