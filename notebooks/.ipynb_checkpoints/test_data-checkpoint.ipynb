{
 "cells": [
  {
   "cell_type": "code",
   "execution_count": 1,
   "id": "49e87297-536e-4ccb-88ef-f046bf559370",
   "metadata": {},
   "outputs": [
    {
     "name": "stderr",
     "output_type": "stream",
     "text": [
      "2022-02-03 19:30:03.189552: W tensorflow/stream_executor/platform/default/dso_loader.cc:60] Could not load dynamic library 'libcudart.so.11.0'; dlerror: libcudart.so.11.0: cannot open shared object file: No such file or directory\n",
      "2022-02-03 19:30:03.189586: I tensorflow/stream_executor/cuda/cudart_stub.cc:29] Ignore above cudart dlerror if you do not have a GPU set up on your machine.\n"
     ]
    }
   ],
   "source": [
    "import numpy as np\n",
    "import scipy.sparse as scs\n",
    "from scipy.stats import multinomial\n",
    "import pathlib as pl\n",
    "import pandas as pd\n",
    "import matplotlib.pyplot as plt\n",
    "from scipy.io import mmread\n",
    "\n",
    "import umap as um\n",
    "\n",
    "from os import listdir\n",
    "from os.path import isfile, join\n",
    "import os\n",
    "\n",
    "from sklearn.decomposition import PCA\n",
    "from sklearn.neighbors import NearestNeighbors\n",
    "\n",
    "from sklearn.preprocessing import StandardScaler\n",
    "from scipy.io import mmwrite\n"
   ]
  },
  {
   "cell_type": "code",
   "execution_count": 51,
   "id": "bcac77c7-576c-420b-b392-e81278578d53",
   "metadata": {},
   "outputs": [],
   "source": [
    "sv_nm = 'NSCLC-DCT-Multi'\n",
    "sv_nm = 'mm-brain'"
   ]
  },
  {
   "cell_type": "code",
   "execution_count": 52,
   "id": "fc3a08fd-9890-4f88-b219-89e4f7738b83",
   "metadata": {},
   "outputs": [],
   "source": [
    "data_path = '../data/test_data/'\n",
    "save_path = '../data/test_mtx_files/' + sv_nm\n"
   ]
  },
  {
   "cell_type": "code",
   "execution_count": 53,
   "id": "e7bfaa6c-9f55-4746-bfd5-bb372af5dd88",
   "metadata": {},
   "outputs": [],
   "source": [
    "ds = '20k_NSCLC_DTC_3p_nextgem_Multiplex'\n",
    "ds = 'Targeted_SC3v3_CellPlex_Mouse_Brain_Nuclei_Neuroscience_Multiplex'"
   ]
  },
  {
   "cell_type": "code",
   "execution_count": 54,
   "id": "94c3eeff-277e-4902-bf75-8eba153f7bb2",
   "metadata": {},
   "outputs": [],
   "source": [
    "ano_file  = data_path + ds + '_multiplexing_analysis_assignment_confidence_table.csv'\n",
    "data_path = data_path + ds + '_count_raw_feature_bc_matrix/'"
   ]
  },
  {
   "cell_type": "code",
   "execution_count": 55,
   "id": "167a7ca7-0abd-4ee1-aaf2-545a388fd058",
   "metadata": {},
   "outputs": [
    {
     "name": "stdout",
     "output_type": "stream",
     "text": [
      "loading in real mtx\n"
     ]
    },
    {
     "data": {
      "text/plain": [
       "(32297, 2996342)"
      ]
     },
     "execution_count": 55,
     "metadata": {},
     "output_type": "execute_result"
    }
   ],
   "source": [
    "print('loading in real mtx')\n",
    "dat_real = mmread(data_path + 'matrix.mtx.gz')\n",
    "dat = scs.csr_matrix(dat_real)\n",
    "dat_real.shape"
   ]
  },
  {
   "cell_type": "code",
   "execution_count": 57,
   "id": "58e83bd3-76e4-45b8-8a53-200cf1a4dced",
   "metadata": {},
   "outputs": [
    {
     "data": {
      "text/plain": [
       "(2996341, 1)"
      ]
     },
     "execution_count": 57,
     "metadata": {},
     "output_type": "execute_result"
    }
   ],
   "source": [
    "barcodes = pd.read_csv(data_path + 'barcodes.tsv.gz')\n",
    "barcodes.shape"
   ]
  },
  {
   "cell_type": "code",
   "execution_count": 58,
   "id": "dede7bd6-e4e3-458c-a83a-c66c92cf5b86",
   "metadata": {},
   "outputs": [
    {
     "data": {
      "text/plain": [
       "(32296, 1)"
      ]
     },
     "execution_count": 58,
     "metadata": {},
     "output_type": "execute_result"
    }
   ],
   "source": [
    "genes = pd.read_csv(data_path + 'features.tsv.gz')\n",
    "genes.shape"
   ]
  },
  {
   "cell_type": "code",
   "execution_count": 59,
   "id": "d6e4dc65-a57f-4eef-a146-85c105ddfcc5",
   "metadata": {},
   "outputs": [
    {
     "data": {
      "text/plain": [
       "array(['doublet', 'singlet'], dtype='<U7')"
      ]
     },
     "execution_count": 59,
     "metadata": {},
     "output_type": "execute_result"
    }
   ],
   "source": [
    "ano = pd.read_csv(ano_file)\n",
    "bol_ano = ano.Assignment == 'Multiplet'\n",
    "dbl_ano = np.full(len(bol_ano), 'singlet')\n",
    "dbl_ano[bol_ano] = 'doublet'\n",
    "np.unique(dbl_ano)"
   ]
  },
  {
   "cell_type": "code",
   "execution_count": 60,
   "id": "c31d838c-cfe1-4fb3-8b71-24a0f56c0a6b",
   "metadata": {},
   "outputs": [
    {
     "data": {
      "text/plain": [
       "(32297, 24151)"
      ]
     },
     "execution_count": 60,
     "metadata": {},
     "output_type": "execute_result"
    }
   ],
   "source": [
    "bc_mask = np.in1d(barcodes, ano.Barcodes)\n",
    "\n",
    "dat = dat[:,bc_mask]\n",
    "dat.shape"
   ]
  },
  {
   "cell_type": "code",
   "execution_count": 61,
   "id": "7ceb0427-d184-482c-ab4d-1fa3c07a7d30",
   "metadata": {},
   "outputs": [],
   "source": [
    "mmwrite(save_path + '.mtx', dat)\n",
    "\n",
    "pd.DataFrame({'x': dbl_ano}).to_csv(save_path + '_anno.csv')"
   ]
  },
  {
   "cell_type": "code",
   "execution_count": 63,
   "id": "392aaa6a-e983-41e8-8c2a-75ce4541b113",
   "metadata": {},
   "outputs": [
    {
     "data": {
      "text/plain": [
       "array(['singlet', 'singlet', 'singlet', ..., 'doublet', 'singlet',\n",
       "       'singlet'], dtype='<U7')"
      ]
     },
     "execution_count": 63,
     "metadata": {},
     "output_type": "execute_result"
    }
   ],
   "source": [
    "dbl_ano"
   ]
  },
  {
   "cell_type": "code",
   "execution_count": null,
   "id": "daf7554c-4158-473d-bcab-ed3e3a2f4651",
   "metadata": {},
   "outputs": [],
   "source": []
  },
  {
   "cell_type": "code",
   "execution_count": null,
   "id": "7fdab099-b996-4cdd-b487-f0fc96c358cb",
   "metadata": {},
   "outputs": [],
   "source": []
  },
  {
   "cell_type": "code",
   "execution_count": null,
   "id": "b37c05d1-4305-4626-a92b-6d4dd3deeb80",
   "metadata": {},
   "outputs": [],
   "source": []
  },
  {
   "cell_type": "code",
   "execution_count": 23,
   "id": "783cbc14-7619-4db7-8f88-fdcbb239a0d2",
   "metadata": {},
   "outputs": [],
   "source": [
    "#ano2 = pd.read_csv('../data/test_data/20k_NSCLC_DTC_3p_nextgem_Multiplex_multiplexing_analysis_tag_calls_per_cell.csv')"
   ]
  }
 ],
 "metadata": {
  "kernelspec": {
   "display_name": "newenv",
   "language": "python",
   "name": "newenv"
  },
  "language_info": {
   "codemirror_mode": {
    "name": "ipython",
    "version": 3
   },
   "file_extension": ".py",
   "mimetype": "text/x-python",
   "name": "python",
   "nbconvert_exporter": "python",
   "pygments_lexer": "ipython3",
   "version": "3.8.5"
  }
 },
 "nbformat": 4,
 "nbformat_minor": 5
}
