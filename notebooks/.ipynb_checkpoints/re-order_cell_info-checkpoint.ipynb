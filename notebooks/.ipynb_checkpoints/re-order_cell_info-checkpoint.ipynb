{
 "cells": [
  {
   "cell_type": "code",
   "execution_count": 11,
   "id": "0567a5fd-3c32-4a73-a183-52c17a11d3f2",
   "metadata": {},
   "outputs": [],
   "source": [
    "suppressMessages(library(SingleCellExperiment))\n",
    "suppressMessages(library(readr))"
   ]
  },
  {
   "cell_type": "code",
   "execution_count": 15,
   "id": "f8b0c913-9348-41e8-b605-4348cbe262ff",
   "metadata": {},
   "outputs": [
    {
     "name": "stderr",
     "output_type": "stream",
     "text": [
      "\n",
      "\u001b[36m──\u001b[39m \u001b[1m\u001b[1mColumn specification\u001b[1m\u001b[22m \u001b[36m────────────────────────────────────────────────────────\u001b[39m\n",
      "cols(\n",
      "  barcode = \u001b[31mcol_character()\u001b[39m,\n",
      "  hg19 = \u001b[32mcol_double()\u001b[39m,\n",
      "  mm10 = \u001b[32mcol_double()\u001b[39m,\n",
      "  call = \u001b[31mcol_character()\u001b[39m\n",
      ")\n",
      "\n",
      "\n"
     ]
    }
   ],
   "source": [
    "file = '../data/r_objs/real_datasets/hm-12k.rds'\n",
    "tmp <- readRDS(file)\n",
    "barcodes <- colnames(tmp[[1]])\n",
    "\n",
    "info_file = '../data/cell_identity_info/hgmm_12k_analysis/gem_classification.csv'\n",
    "info <- read_csv(info_file)\n",
    "info <- data.frame(info)"
   ]
  },
  {
   "cell_type": "code",
   "execution_count": 34,
   "id": "4b139cf3-2233-4772-8565-1f80fbedc85c",
   "metadata": {},
   "outputs": [
    {
     "data": {
      "text/html": [
       "<style>\n",
       ".list-inline {list-style: none; margin:0; padding: 0}\n",
       ".list-inline>li {display: inline-block}\n",
       ".list-inline>li:not(:last-child)::after {content: \"\\00b7\"; padding: 0 .5ex}\n",
       "</style>\n",
       "<ol class=list-inline><li>12820</li><li>4</li></ol>\n"
      ],
      "text/latex": [
       "\\begin{enumerate*}\n",
       "\\item 12820\n",
       "\\item 4\n",
       "\\end{enumerate*}\n"
      ],
      "text/markdown": [
       "1. 12820\n",
       "2. 4\n",
       "\n",
       "\n"
      ],
      "text/plain": [
       "[1] 12820     4"
      ]
     },
     "metadata": {},
     "output_type": "display_data"
    }
   ],
   "source": [
    "dim(info)"
   ]
  },
  {
   "cell_type": "code",
   "execution_count": 35,
   "id": "56688f96-a3d9-47ef-b5b0-5bc3cca2a47e",
   "metadata": {},
   "outputs": [
    {
     "data": {
      "text/html": [
       "12820"
      ],
      "text/latex": [
       "12820"
      ],
      "text/markdown": [
       "12820"
      ],
      "text/plain": [
       "[1] 12820"
      ]
     },
     "metadata": {},
     "output_type": "display_data"
    }
   ],
   "source": [
    "length(barcodes)"
   ]
  },
  {
   "cell_type": "code",
   "execution_count": 43,
   "id": "c699032a-77bb-4f74-9139-4bfea49af375",
   "metadata": {},
   "outputs": [],
   "source": [
    "rownames(info) <- t(info['barcode'])"
   ]
  },
  {
   "cell_type": "code",
   "execution_count": 59,
   "id": "3df423dc-daf4-4c38-9ab7-e28216acafe7",
   "metadata": {},
   "outputs": [
    {
     "data": {
      "text/html": [
       "<table class=\"dataframe\">\n",
       "<caption>A data.frame: 6 × 4</caption>\n",
       "<thead>\n",
       "\t<tr><th></th><th scope=col>barcode</th><th scope=col>hg19</th><th scope=col>mm10</th><th scope=col>call</th></tr>\n",
       "\t<tr><th></th><th scope=col>&lt;chr&gt;</th><th scope=col>&lt;dbl&gt;</th><th scope=col>&lt;dbl&gt;</th><th scope=col>&lt;chr&gt;</th></tr>\n",
       "</thead>\n",
       "<tbody>\n",
       "\t<tr><th scope=row>AAACCTGAGCCCTAAT-1</th><td>AAACCTGAGCCCTAAT-1</td><td>17946</td><td>195</td><td>hg19</td></tr>\n",
       "\t<tr><th scope=row>AAACCTGAGCGGATCA-1</th><td>AAACCTGAGCGGATCA-1</td><td> 6931</td><td> 71</td><td>hg19</td></tr>\n",
       "\t<tr><th scope=row>AAACCTGAGGGCTTCC-1</th><td>AAACCTGAGGGCTTCC-1</td><td>15550</td><td>177</td><td>hg19</td></tr>\n",
       "\t<tr><th scope=row>AAACCTGCACAGATTC-1</th><td>AAACCTGCACAGATTC-1</td><td>36154</td><td>286</td><td>hg19</td></tr>\n",
       "\t<tr><th scope=row>AAACCTGCAGGGTATG-1</th><td>AAACCTGCAGGGTATG-1</td><td>21623</td><td>230</td><td>hg19</td></tr>\n",
       "\t<tr><th scope=row>AAACCTGCATGTTGAC-1</th><td>AAACCTGCATGTTGAC-1</td><td>25644</td><td>401</td><td>hg19</td></tr>\n",
       "</tbody>\n",
       "</table>\n"
      ],
      "text/latex": [
       "A data.frame: 6 × 4\n",
       "\\begin{tabular}{r|llll}\n",
       "  & barcode & hg19 & mm10 & call\\\\\n",
       "  & <chr> & <dbl> & <dbl> & <chr>\\\\\n",
       "\\hline\n",
       "\tAAACCTGAGCCCTAAT-1 & AAACCTGAGCCCTAAT-1 & 17946 & 195 & hg19\\\\\n",
       "\tAAACCTGAGCGGATCA-1 & AAACCTGAGCGGATCA-1 &  6931 &  71 & hg19\\\\\n",
       "\tAAACCTGAGGGCTTCC-1 & AAACCTGAGGGCTTCC-1 & 15550 & 177 & hg19\\\\\n",
       "\tAAACCTGCACAGATTC-1 & AAACCTGCACAGATTC-1 & 36154 & 286 & hg19\\\\\n",
       "\tAAACCTGCAGGGTATG-1 & AAACCTGCAGGGTATG-1 & 21623 & 230 & hg19\\\\\n",
       "\tAAACCTGCATGTTGAC-1 & AAACCTGCATGTTGAC-1 & 25644 & 401 & hg19\\\\\n",
       "\\end{tabular}\n"
      ],
      "text/markdown": [
       "\n",
       "A data.frame: 6 × 4\n",
       "\n",
       "| <!--/--> | barcode &lt;chr&gt; | hg19 &lt;dbl&gt; | mm10 &lt;dbl&gt; | call &lt;chr&gt; |\n",
       "|---|---|---|---|---|\n",
       "| AAACCTGAGCCCTAAT-1 | AAACCTGAGCCCTAAT-1 | 17946 | 195 | hg19 |\n",
       "| AAACCTGAGCGGATCA-1 | AAACCTGAGCGGATCA-1 |  6931 |  71 | hg19 |\n",
       "| AAACCTGAGGGCTTCC-1 | AAACCTGAGGGCTTCC-1 | 15550 | 177 | hg19 |\n",
       "| AAACCTGCACAGATTC-1 | AAACCTGCACAGATTC-1 | 36154 | 286 | hg19 |\n",
       "| AAACCTGCAGGGTATG-1 | AAACCTGCAGGGTATG-1 | 21623 | 230 | hg19 |\n",
       "| AAACCTGCATGTTGAC-1 | AAACCTGCATGTTGAC-1 | 25644 | 401 | hg19 |\n",
       "\n"
      ],
      "text/plain": [
       "                   barcode            hg19  mm10 call\n",
       "AAACCTGAGCCCTAAT-1 AAACCTGAGCCCTAAT-1 17946 195  hg19\n",
       "AAACCTGAGCGGATCA-1 AAACCTGAGCGGATCA-1  6931  71  hg19\n",
       "AAACCTGAGGGCTTCC-1 AAACCTGAGGGCTTCC-1 15550 177  hg19\n",
       "AAACCTGCACAGATTC-1 AAACCTGCACAGATTC-1 36154 286  hg19\n",
       "AAACCTGCAGGGTATG-1 AAACCTGCAGGGTATG-1 21623 230  hg19\n",
       "AAACCTGCATGTTGAC-1 AAACCTGCATGTTGAC-1 25644 401  hg19"
      ]
     },
     "metadata": {},
     "output_type": "display_data"
    }
   ],
   "source": [
    "head(info[barcodes,])"
   ]
  },
  {
   "cell_type": "code",
   "execution_count": 60,
   "id": "86a064f2-fab8-4bd1-a5c7-94d03292288d",
   "metadata": {},
   "outputs": [],
   "source": [
    "write.table(info[barcodes,], file = '../data/cell_identity_info/hgmm_12k_analysis/ORDERED_gem_classification.csv',\n",
    "           quote = FALSE, sep = \",\", row.names = FALSE)"
   ]
  },
  {
   "cell_type": "code",
   "execution_count": null,
   "id": "dbdd7d56-83b9-487d-b58a-a05606b2acd5",
   "metadata": {},
   "outputs": [],
   "source": []
  },
  {
   "cell_type": "code",
   "execution_count": null,
   "id": "8b7bb890-aaf4-41d6-b7d0-bd1afcde55e2",
   "metadata": {},
   "outputs": [],
   "source": []
  },
  {
   "cell_type": "code",
   "execution_count": 62,
   "id": "fa309513-9de0-4c9e-9c5c-baab8ac80ec6",
   "metadata": {},
   "outputs": [
    {
     "name": "stderr",
     "output_type": "stream",
     "text": [
      "\n",
      "\u001b[36m──\u001b[39m \u001b[1m\u001b[1mColumn specification\u001b[1m\u001b[22m \u001b[36m────────────────────────────────────────────────────────\u001b[39m\n",
      "cols(\n",
      "  barcode = \u001b[31mcol_character()\u001b[39m,\n",
      "  hg19 = \u001b[32mcol_double()\u001b[39m,\n",
      "  mm10 = \u001b[32mcol_double()\u001b[39m,\n",
      "  call = \u001b[31mcol_character()\u001b[39m\n",
      ")\n",
      "\n",
      "\n"
     ]
    }
   ],
   "source": [
    "file = '../data/r_objs/real_datasets/hm-6k.rds'\n",
    "tmp <- readRDS(file)\n",
    "barcodes <- colnames(tmp[[1]])\n",
    "\n",
    "info_file = '../data/cell_identity_info/hgmm_6k_analysis/gem_classification.csv'\n",
    "info <- read_csv(info_file)\n",
    "info <- data.frame(info)"
   ]
  },
  {
   "cell_type": "code",
   "execution_count": 63,
   "id": "e75b6131-277d-4371-9c0b-6f0547e5c508",
   "metadata": {},
   "outputs": [],
   "source": [
    "rownames(info) <- t(info['barcode'])\n",
    "write.table(info[barcodes,], file = '../data/cell_identity_info/hgmm_6k_analysis/ORDERED_gem_classification.csv',\n",
    "           quote = FALSE, sep = \",\", row.names = FALSE)"
   ]
  },
  {
   "cell_type": "code",
   "execution_count": null,
   "id": "d82e8bb8-912e-406f-9b56-219b95feb795",
   "metadata": {},
   "outputs": [],
   "source": []
  }
 ],
 "metadata": {
  "kernelspec": {
   "display_name": "R",
   "language": "R",
   "name": "ir"
  },
  "language_info": {
   "codemirror_mode": "r",
   "file_extension": ".r",
   "mimetype": "text/x-r-source",
   "name": "R",
   "pygments_lexer": "r",
   "version": "4.0.5"
  }
 },
 "nbformat": 4,
 "nbformat_minor": 5
}
