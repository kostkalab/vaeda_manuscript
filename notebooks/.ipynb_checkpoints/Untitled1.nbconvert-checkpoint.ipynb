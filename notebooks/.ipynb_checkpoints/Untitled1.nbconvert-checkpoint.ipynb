{
 "cells": [
  {
   "cell_type": "code",
   "execution_count": 1,
   "id": "b84188c8-36c2-473f-acde-9a69a3e55cfd",
   "metadata": {
    "execution": {
     "iopub.execute_input": "2021-09-21T13:51:00.716154Z",
     "iopub.status.busy": "2021-09-21T13:51:00.715044Z",
     "iopub.status.idle": "2021-09-21T13:51:00.720184Z",
     "shell.execute_reply": "2021-09-21T13:51:00.719223Z"
    }
   },
   "outputs": [
    {
     "name": "stdout",
     "output_type": "stream",
     "text": [
      "1\n",
      "HELLO\n",
      "2\n",
      "HELLO\n",
      "3\n",
      "HELLO\n"
     ]
    }
   ],
   "source": [
    "for i in [1,2,3]:\n",
    "    print(i)\n",
    "    print('HELLO')"
   ]
  }
 ],
 "metadata": {
  "kernelspec": {
   "display_name": "Python 3",
   "language": "python",
   "name": "python3"
  },
  "language_info": {
   "codemirror_mode": {
    "name": "ipython",
    "version": 3
   },
   "file_extension": ".py",
   "mimetype": "text/x-python",
   "name": "python",
   "nbconvert_exporter": "python",
   "pygments_lexer": "ipython3",
   "version": "3.8.5"
  }
 },
 "nbformat": 4,
 "nbformat_minor": 5
}
