{
 "cells": [
  {
   "cell_type": "code",
   "execution_count": null,
   "id": "27406442-eead-4b88-816f-7b09f2b79d39",
   "metadata": {},
   "outputs": [],
   "source": [
    "import numpy as np\n",
    "import scipy.sparse as scs\n",
    "from scipy.stats import multinomial\n",
    "import pathlib as pl\n",
    "import pandas as pd\n",
    "import matplotlib.pyplot as plt\n",
    "from scipy.io import mmread\n",
    "\n",
    "import umap as um\n",
    "\n",
    "\n",
    "from os import listdir\n",
    "from os.path import isfile, join\n",
    "import os\n",
    "\n",
    "import random\n",
    "\n",
    "from sklearn import metrics\n",
    "from sklearn.metrics import precision_recall_curve, accuracy_score, average_precision_score\n",
    "\n"
   ]
  },
  {
   "cell_type": "code",
   "execution_count": null,
   "id": "ae727a78-2d38-442d-b83d-82237e69aa77",
   "metadata": {},
   "outputs": [],
   "source": [
    "from plot_results import get_dbl_metrics\n"
   ]
  },
  {
   "cell_type": "code",
   "execution_count": null,
   "id": "b69d24ae-6e0f-4c53-9d6c-807b2f5dc0b6",
   "metadata": {
    "tags": []
   },
   "outputs": [],
   "source": [
    "data_dir = 'sce_normalized_data_inflate'\n",
    "path = '../data/' + data_dir + '/'\n",
    "files = [f for f in listdir(path) if (isfile(join(path, f)) & (f[-18:-4] == 'real_logcounts'))]\n",
    "files = np.sort(files)\n",
    "#files = files[3:4]\n",
    "#files = ['pbmc-1A-dm_real_logcounts.mtx', 'hm-12k_real_logcounts.mtx', 'HEK-HMEC-MULTI_real_logcounts.mtx', 'J293t-dm_real_logcounts.mtx']\n",
    "files"
   ]
  },
  {
   "cell_type": "code",
   "execution_count": null,
   "id": "ad815f71-e220-4d51-9ce5-9ae1e26d5f57",
   "metadata": {
    "tags": []
   },
   "outputs": [],
   "source": [
    "knees = []\n",
    "for file in files:\n",
    "    \n",
    "    data_name = file[:-19]\n",
    "    print(data_name) \n",
    "    \n",
    "    save_path = '../results_PU/lib-sze'\n",
    "    #save_path = '../results_PU/doublet_calls/vaeda'\n",
    "    if not os.path.exists(save_path):\n",
    "        os.makedirs(save_path)\n",
    "    save_path = save_path + '/' + data_name + '_'\n",
    "    print(save_path)\n",
    "\n",
    "    real_path = '../data/mtx_files/' + data_name + '.mtx'\n",
    "    ano_path  = '../data/mtx_files/' + data_name + '_anno.csv'\n",
    "    \n",
    "    print('loading in real mtx')\n",
    "    dat_real = mmread(real_path)\n",
    "    Xr = scs.csr_matrix(dat_real).toarray().T\n",
    "    \n",
    "    #- READ IN BARCODE ANNOTATIONS\n",
    "    ano = pd.read_csv(ano_path)\n",
    "    true = pd.factorize(ano.x)[0]\n",
    "    labels = ano.x\n",
    "    if (labels[0]=='doublet'):\n",
    "        tmp = true + 3\n",
    "        tmp[tmp==3] = 1\n",
    "        tmp[tmp==4] = 0\n",
    "        true = tmp\n",
    "    \n",
    "\n",
    "    preds = np.sum(Xr, axis=1)\n",
    "    \n",
    "    num = int(Xr.shape[0] * 0.05)\n",
    "    calls = np.zeros(len(preds))\n",
    "    calls[preds.argsort()[-num:]] = 1\n",
    "    \n",
    "    if(True):\n",
    "\n",
    "        #SAVE SCORES\n",
    "        tmp1 = np.zeros((len(preds), 3))\n",
    "        df = pd.DataFrame(tmp1, columns=['ano', 'doublet_scores', 'predicted_doublets'])\n",
    "        df.ano = true\n",
    "        df.doublet_scores = preds\n",
    "        df.predicted_doublets = calls\n",
    "        df.to_csv(save_path + 'lib-sze_scores_1.csv') \n",
    "\n",
    "        #PR and ROC curves\n",
    "        plt.figure(4)\n",
    "        res = get_dbl_metrics(true, preds)\n",
    "        plt.show()\n",
    "        plt.close()\n",
    "\n",
    "        #save AUCs\n",
    "        hm_pr = pd.DataFrame(np.array(res).T, index=['AUROC', 'AUPRC', 'AP']).T\n",
    "        hm_pr.to_csv(save_path + 'scores_ROC_PR_area_ALL.csv') \n",
    "\n",
    "\n"
   ]
  },
  {
   "cell_type": "code",
   "execution_count": null,
   "id": "752f992a-ad82-404c-be05-6fb7cb9504b8",
   "metadata": {},
   "outputs": [],
   "source": []
  }
 ],
 "metadata": {
  "kernelspec": {
   "display_name": "newenv",
   "language": "python",
   "name": "newenv"
  },
  "language_info": {
   "codemirror_mode": {
    "name": "ipython",
    "version": 3
   },
   "file_extension": ".py",
   "mimetype": "text/x-python",
   "name": "python",
   "nbconvert_exporter": "python",
   "pygments_lexer": "ipython3",
   "version": "3.8.5"
  }
 },
 "nbformat": 4,
 "nbformat_minor": 5
}
