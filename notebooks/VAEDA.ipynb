{
 "cells": [
  {
   "cell_type": "code",
   "execution_count": null,
   "id": "f554d502-4b02-44c7-9101-37b21d1639e7",
   "metadata": {},
   "outputs": [],
   "source": []
  },
  {
   "cell_type": "code",
   "execution_count": null,
   "id": "27406442-eead-4b88-816f-7b09f2b79d39",
   "metadata": {},
   "outputs": [],
   "source": [
    "import numpy as np\n",
    "import scipy.sparse as scs\n",
    "from scipy.stats import multinomial\n",
    "import pathlib as pl\n",
    "import pandas as pd\n",
    "import matplotlib.pyplot as plt\n",
    "from scipy.io import mmread\n",
    "\n",
    "import umap as um\n",
    "\n",
    "\n",
    "from os import listdir\n",
    "from os.path import isfile, join\n",
    "import os\n",
    "\n",
    "import random\n",
    "\n",
    "from sklearn.decomposition import PCA\n",
    "from sklearn.neighbors import NearestNeighbors\n",
    "\n",
    "import seaborn as sns\n",
    "\n",
    "from sklearn.preprocessing import StandardScaler\n",
    "\n",
    "import random\n",
    "from sklearn import metrics\n",
    "from sklearn.metrics import precision_recall_curve, accuracy_score, average_precision_score\n",
    "\n",
    "\n",
    "import tensorflow as tf\n",
    "\n",
    "import os\n",
    "import pickle\n",
    "\n",
    "import seaborn as sns\n",
    "\n",
    "from sklearn.model_selection import train_test_split\n",
    "\n",
    "from kneed import KneeLocator\n",
    "\n",
    "from numpy.random import seed\n",
    "\n",
    "import time\n"
   ]
  },
  {
   "cell_type": "code",
   "execution_count": null,
   "id": "ae727a78-2d38-442d-b83d-82237e69aa77",
   "metadata": {},
   "outputs": [],
   "source": [
    "from plot_results import get_dbl_metrics\n",
    "from vae import define_clust_vae\n",
    "from PU import PU, epoch_PU, epoch_PU2\n",
    "from classifier import define_classifier\n",
    "from mk_doublets import sim_inflate, sim_avg, sim_sum\n",
    "from cluster import cluster, fast_cluster\n",
    "from vaeda import vaeda"
   ]
  },
  {
   "cell_type": "code",
   "execution_count": null,
   "id": "c2357870-bc84-4155-a4ad-b2c3b1d47595",
   "metadata": {},
   "outputs": [],
   "source": [
    "import scanpy as sc\n",
    "import anndata"
   ]
  },
  {
   "cell_type": "code",
   "execution_count": null,
   "id": "325e0a0c-92b6-412a-83ad-64640d27d091",
   "metadata": {},
   "outputs": [],
   "source": [
    "import numpy as np\n",
    "import scipy.sparse as scs\n",
    "from scipy.stats import multinomial\n",
    "import pathlib as pl\n",
    "import pandas as pd\n",
    "import matplotlib.pyplot as plt\n",
    "from scipy.io import mmread\n",
    "\n",
    "import umap as um\n",
    "\n",
    "\n",
    "from os import listdir\n",
    "from os.path import isfile, join\n",
    "import os\n",
    "\n",
    "import random\n",
    "\n",
    "from sklearn.decomposition import PCA\n",
    "from sklearn.neighbors import NearestNeighbors\n",
    "\n",
    "import seaborn as sns\n",
    "\n",
    "from sklearn.preprocessing import StandardScaler\n",
    "\n",
    "import random\n",
    "from sklearn import metrics\n",
    "from sklearn.metrics import precision_recall_curve, accuracy_score, average_precision_score\n",
    "\n",
    "\n",
    "import tensorflow as tf\n",
    "\n",
    "import os\n",
    "import pickle\n",
    "\n",
    "import seaborn as sns\n",
    "\n",
    "from sklearn.model_selection import train_test_split\n",
    "\n",
    "from kneed import KneeLocator\n",
    "\n",
    "from numpy.random import seed\n",
    "\n",
    "import time\n",
    "import scanpy as sc\n",
    "import anndata\n",
    "\n",
    "\n",
    "\n",
    "\n",
    "from plot_results import get_dbl_metrics\n",
    "from vae import define_clust_vae\n",
    "from PU import PU, epoch_PU, epoch_PU2\n",
    "from classifier import define_classifier\n",
    "from mk_doublets import sim_inflate, sim_avg, sim_sum\n",
    "from cluster import cluster, fast_cluster\n",
    "\n",
    "\n",
    "\n",
    "\n"
   ]
  },
  {
   "cell_type": "code",
   "execution_count": null,
   "id": "b8ac18bf-cd0f-4a9f-a891-a8cf56ff3e8b",
   "metadata": {},
   "outputs": [],
   "source": [
    "def sigmoid(x):\n",
    "    sig = 1 / (1 + np.exp(-(12*x)+6))\n",
    "    return sig"
   ]
  },
  {
   "cell_type": "code",
   "execution_count": null,
   "id": "7440d706-7b00-4c5f-9930-5bb04ed4a707",
   "metadata": {},
   "outputs": [],
   "source": [
    "data_dir = 'sce_normalized_data_inflate'\n",
    "save = True\n",
    "use_old_doubs=False\n",
    "remove_homos = True\n",
    "projections = False\n",
    "\n",
    "#VAE hyperparams\n",
    "eps  = 1000\n",
    "enc_sze = 5\n",
    "use_old=False\n",
    "pat = 20\n",
    "LR=1e-3\n",
    "clust_weight = 10000\n",
    "\n",
    "#PU hyperparameters\n",
    "cls_eps = 250 \n",
    "stop_metric = 'ValAUC'\n",
    "puPat = 5\n",
    "puLR =1e-3\n",
    "pu_num_layers = 1\n",
    "k_mult = 2\n",
    "N = 10"
   ]
  },
  {
   "cell_type": "code",
   "execution_count": null,
   "id": "9cf826d4-e3fa-4656-9955-ba2fda411449",
   "metadata": {
    "tags": []
   },
   "outputs": [],
   "source": [
    "seeds = [42, 29503, 432809, 42, 132975, 9231996, 12883823, 9231996, 1234, 62938, 57203 ,109573, 23]\n"
   ]
  },
  {
   "cell_type": "code",
   "execution_count": null,
   "id": "b69d24ae-6e0f-4c53-9d6c-807b2f5dc0b6",
   "metadata": {
    "tags": []
   },
   "outputs": [],
   "source": [
    "data_dir = 'sce_normalized_data_inflate'\n",
    "path = '../data/' + data_dir + '/'\n",
    "files = [f for f in listdir(path) if (isfile(join(path, f)) & (f[-18:-4] == 'real_logcounts'))]\n",
    "files = np.sort(files)\n",
    "files = files#[:2]\n",
    "#files = ['nuc-MULTI_real_logcounts.mtx', 'pbmc-ch_real_logcounts.mtx', 'hm-12k_real_logcounts.mtx']\n",
    "files"
   ]
  },
  {
   "cell_type": "code",
   "execution_count": null,
   "id": "ecdb3fe7-e68d-4d52-aae5-98629d9b27bf",
   "metadata": {
    "tags": []
   },
   "outputs": [],
   "source": [
    "#files = files[9:]\n",
    "#files\n",
    "\n",
    "#nohup jupyter nbconvert --to notebook --execute VAEDA.ipynb"
   ]
  },
  {
   "cell_type": "code",
   "execution_count": null,
   "id": "693fb443-7ad9-477e-bda4-1457a1274d26",
   "metadata": {
    "tags": []
   },
   "outputs": [],
   "source": [
    "time_names = ['total', 'simulation', 'HVGs', 'scaling1', 'knn', 'downsample', 'scaling2', 'cluster', 'vae', 'epoch_selection', 'PU_loop']"
   ]
  },
  {
   "cell_type": "code",
   "execution_count": null,
   "id": "0f413d2a-2e88-40f9-8bdf-c0c64a0f0f36",
   "metadata": {},
   "outputs": [],
   "source": [
    "N=1\n",
    "use_old=False\n",
    "remove_homos = True\n",
    "\n",
    "k_mult = 2"
   ]
  },
  {
   "cell_type": "code",
   "execution_count": null,
   "id": "5a4b324b-4758-40df-bef7-126ab3a9af50",
   "metadata": {},
   "outputs": [],
   "source": [
    "#from vaeda import vaeda"
   ]
  },
  {
   "cell_type": "code",
   "execution_count": null,
   "id": "2e51f939-8022-4dd6-bf14-6a1272109eb9",
   "metadata": {},
   "outputs": [],
   "source": [
    "#vadea = all default but PCA is 30\n",
    "#vadea2 = all default but PCA is 30, and ClustWeight is 20000\n",
    "#vadea3 = all default but PCA is 40, and ClustWeight is 20000\n",
    "#vadea4 = all default but PCA is 30, and ClustWeight is 30000 \n",
    "#vadea5 = all default but PCA is 30, and ClustWeight is 20000, enc_sze=3 \n",
    "#vadea6 = all default but PCA is 30, and ClustWeight is 20000, numhvg=1000 *"
   ]
  },
  {
   "cell_type": "code",
   "execution_count": null,
   "id": "e6c9aee9-e51b-4b77-bf98-3884a8abd174",
   "metadata": {},
   "outputs": [],
   "source": [
    "'''- clust weight = 30000\n",
    "- enc_sze=3\n",
    "- numhvg=1000'''"
   ]
  },
  {
   "cell_type": "code",
   "execution_count": null,
   "id": "ad815f71-e220-4d51-9ce5-9ae1e26d5f57",
   "metadata": {
    "tags": []
   },
   "outputs": [],
   "source": [
    "knees = []\n",
    "for file in files:\n",
    "    \n",
    "    data_name = file[:-19]\n",
    "    print(data_name) \n",
    "    \n",
    "    save_path = '../results_PU/final_vaeda_result/VAEDA_new_calls'\n",
    "    #save_path = '../results_PU/doublet_calls/vaeda'\n",
    "    if not os.path.exists(save_path):\n",
    "        os.makedirs(save_path)\n",
    "    save_path = save_path + '/' + data_name + '_'\n",
    "    print(save_path)\n",
    "\n",
    "    real_path = '../data/mtx_files/' + data_name + '.mtx'\n",
    "    ano_path  = '../data/mtx_files/' + data_name + '_anno.csv'\n",
    "    \n",
    "    print('loading in real mtx')\n",
    "    dat_real = mmread(real_path)\n",
    "    Xr = scs.csr_matrix(dat_real).toarray().T\n",
    "    \n",
    "    #- READ IN BARCODE ANNOTATIONS\n",
    "    ano = pd.read_csv(ano_path)\n",
    "    true = pd.factorize(ano.x)[0]\n",
    "    labels = ano.x\n",
    "    if (labels[0]=='doublet'):\n",
    "        tmp = true + 3\n",
    "        tmp[tmp==3] = 1\n",
    "        tmp[tmp==4] = 0\n",
    "        true = tmp\n",
    "\n",
    "    \n",
    "    preds, preds_on_P, calls, encoding, knn_features = vaeda(Xr, save_dir=save_path, use_old=use_old, pca_comp=30, clust_weight=20000)\n",
    "    \n",
    "    #X, save_dir='',\n",
    "    #gene_thresh=.01, num_hvgs=2000,\n",
    "    #pca_comp=30, quant=0.25,\n",
    "    #enc_sze=5, max_eps_vae=1000, pat_vae=20, LR_vae=1e-3, clust_weight=20000, rate=-0.75,\n",
    "    #N=1, k_mult=2, max_eps_PU=250, LR_PU=1e-3,\n",
    "    #remove_homos=True, use_old=True,\n",
    "    #seeds=[42, 29503, 432809, 42, 132975, 9231996, 12883823, 9231996, 1234, 62938, 57203 ,109573, 23])\n",
    "    \n",
    "    true = np.concatenate([true, np.full(len(preds_on_P),2)])\n",
    "    labels = np.concatenate([labels, np.full(len(preds_on_P),'simulated')])\n",
    "    \n",
    "    #RESULTS\n",
    "    preds_sing = preds[true[true<2]==0]\n",
    "    preds_doub_test = preds[true[true<2]==1]\n",
    "    preds_doub_train = preds_on_P\n",
    "    labs = ['singlet', 'actual doublet', 'simulated doublet']\n",
    "    cols = np.concatenate([preds, preds_on_P])\n",
    "\n",
    "    #SAVE SCORES\n",
    "    tmp1 = np.zeros((len(preds), 3))\n",
    "    df = pd.DataFrame(tmp1, columns=['ano', 'doublet_scores', 'predicted_doublets'])\n",
    "    df.ano = true[true<2]\n",
    "    df.doublet_scores = preds\n",
    "    df.predicted_doublets = calls\n",
    "    if(save):\n",
    "        df.to_csv(save_path + 'vaeda3_scores_1.csv') \n",
    "\n",
    "    #PR and ROC curves\n",
    "    plt.figure(4)\n",
    "    res = get_dbl_metrics(true[true<2], preds)\n",
    "    plt.show()\n",
    "    plt.close()\n",
    "\n",
    "    #save AUCs\n",
    "    hm_pr = pd.DataFrame(np.array(res).T, index=['AUROC', 'AUPRC', 'AP']).T\n",
    "    if(save):\n",
    "        hm_pr.to_csv(save_path + 'scores_ROC_PR_area_ALL.csv') \n",
    "        \n",
    "        \n",
    "    if(projections):\n",
    "        proj_enc = um.UMAP(n_neighbors=7).fit_transform(encoding)\n",
    "\n",
    "        fig, ax = plt.subplots()\n",
    "        cols = ['r', 'b', 'g']\n",
    "        size= (1/np.sqrt(encoding.shape[0]))*30\n",
    "        for i in [0,2,1]:\n",
    "            scatter = ax.scatter(proj_enc[true==i,0],proj_enc[true==i,1], s=size, alpha=0.5, label=str(i), cmap=plt.cm.Spectral)\n",
    "        #scatter = ax.scatter(proj_enc[:,0],proj_enc[:,1], s=size, alpha=1, c=true, cmap='twilight')\n",
    "        #plt.legend()\n",
    "\n",
    "        plt.title(data_name + ' encoding UMAP')\n",
    "        plt.legend()\n",
    "        #make square\n",
    "        x0,x1 = ax.get_xlim()\n",
    "        y0,y1 = ax.get_ylim()\n",
    "        ax.set_aspect(abs(x1-x0)/abs(y1-y0))\n",
    "        #remove ticks\n",
    "        plt.tick_params(axis='both', \n",
    "                        which='both', \n",
    "                        bottom=False, \n",
    "                        top=False, \n",
    "                        labelbottom=False, \n",
    "                        right=False, \n",
    "                        left=False, \n",
    "                        labelleft=False)\n",
    "        #if save:\n",
    "        #    plt.savefig(fig_path + 'UMAP.png', dpi=100)\n",
    "        plt.show()\n",
    "        plt.close(fig)\n",
    "        \n",
    "        \n",
    "        fig, ax = plt.subplots()\n",
    "        cols = ['r', 'b', 'g']\n",
    "        size= (1/np.sqrt(encoding.shape[0]))*30\n",
    "\n",
    "        p = proj_enc[true<2,:]\n",
    "        p = p[np.argsort(preds)[::-1],:]\n",
    "        scatter = ax.scatter(p[:,0],p[:,1], s=size, alpha=1, c=preds[np.argsort(preds)[::-1]], cmap='viridis')\n",
    "        fig.colorbar(mappable=scatter)\n",
    "\n",
    "        plt.title(data_name + ' encoding UMAP')\n",
    "        plt.legend()\n",
    "        #make square\n",
    "        x0,x1 = ax.get_xlim()\n",
    "        y0,y1 = ax.get_ylim()\n",
    "        ax.set_aspect(abs(x1-x0)/abs(y1-y0))\n",
    "        #remove ticks\n",
    "        plt.tick_params(axis='both', \n",
    "                        which='both', \n",
    "                        bottom=False, \n",
    "                        top=False, \n",
    "                        labelbottom=False, \n",
    "                        right=False, \n",
    "                        left=False, \n",
    "                        labelleft=False)\n",
    "        #if save:\n",
    "        #    plt.savefig(fig_path + 'UMAP.png', dpi=100)\n",
    "        plt.show()\n",
    "        plt.close(fig)\n",
    "\n",
    "    \n",
    "        proj_enc = um.UMAP(n_neighbors=7).fit_transform(encoding[true<2,:])\n",
    "\n",
    "        fig, ax = plt.subplots()\n",
    "        cols = ['r', 'b', 'g']\n",
    "        size= (1/np.sqrt(encoding.shape[0]))*30\n",
    "        for i in ['singlet', 'doublet']:\n",
    "            scatter = ax.scatter(proj_enc[calls==i,0],proj_enc[calls==i,1], s=size, alpha=0.5, label=str(i), cmap=plt.cm.Spectral)\n",
    "        #scatter = ax.scatter(proj_enc[:,0],proj_enc[:,1], s=size, alpha=1, c=true, cmap='twilight')\n",
    "        #plt.legend()\n",
    "\n",
    "        plt.title(data_name + ' encoding UMAP Doublet Calls')\n",
    "        plt.legend()\n",
    "        #make square\n",
    "        x0,x1 = ax.get_xlim()\n",
    "        y0,y1 = ax.get_ylim()\n",
    "        ax.set_aspect(abs(x1-x0)/abs(y1-y0))\n",
    "        #remove ticks\n",
    "        plt.tick_params(axis='both', \n",
    "                        which='both', \n",
    "                        bottom=False, \n",
    "                        top=False, \n",
    "                        labelbottom=False, \n",
    "                        right=False, \n",
    "                        left=False, \n",
    "                        labelleft=False)\n",
    "        #if save:\n",
    "        #    plt.savefig(fig_path + 'UMAP.png', dpi=100)\n",
    "        plt.show()\n",
    "        plt.close(fig)\n",
    "        "
   ]
  },
  {
   "cell_type": "code",
   "execution_count": null,
   "id": "3cf858e7-0817-45d9-82c7-1bc341e58c17",
   "metadata": {},
   "outputs": [],
   "source": []
  },
  {
   "cell_type": "code",
   "execution_count": null,
   "id": "7793f41f-e7ff-4192-8ac4-6cc692dab811",
   "metadata": {},
   "outputs": [],
   "source": []
  },
  {
   "cell_type": "code",
   "execution_count": null,
   "id": "405a6827-764a-4a1b-a83b-d241d73aa14c",
   "metadata": {},
   "outputs": [],
   "source": []
  },
  {
   "cell_type": "code",
   "execution_count": null,
   "id": "bb60e02a-f552-48b9-92c7-e6b005d894b4",
   "metadata": {},
   "outputs": [],
   "source": [
    "clusters_real = np.load('../results_PU/final_vaeda_result/VAEDA/hm-12k_clusters_real.npy')\n",
    "clusters_sim = np.load('../results_PU/final_vaeda_result/VAEDA/hm-12k_clusters_sim.npy')\n",
    "emb_real = np.load('../results_PU/final_vaeda_result/VAEDA/hm-12k_embedding_real.npy')\n",
    "emb_sim = np.load('../results_PU/final_vaeda_result/VAEDA/hm-12k_embedding_sim.npy')\n",
    "df_scores = pd.read_csv('../results_PU/final_vaeda_result/VAEDA/hm-12k_scores_ROC_PR_area_ALL.csv')\n",
    "knn_feat_real = np.load('../results_PU/final_vaeda_result/VAEDA/hm-12k_knn_feature_real.npy')\n",
    "knn_feat_sim = np.load('../results_PU/final_vaeda_result/VAEDA/hm-12k_knn_feature_sim.npy')\n",
    "sim_scores = np.load('../results_PU/final_vaeda_result/VAEDA/hm-12k_scores_on_sim.npy')\n",
    "scores = np.load('../results_PU/final_vaeda_result/VAEDA/hm-12k_scores.npy')\n",
    "sim_ind = np.load('../results_PU/final_vaeda_result/VAEDA/hm-12k_sim_ind.npy')\n",
    "time = pd.read_csv('../results_PU/final_vaeda_result/VAEDA/hm-12k_time.csv')\n",
    "dat_sim = scs.load_npz('../results_PU/final_vaeda_result/VAEDA/hm-12k_sim_doubs.npz')\n",
    "sim_which = np.load('../results_PU/final_vaeda_result/VAEDA/hm-12k_which_sim_doubs.npy')"
   ]
  },
  {
   "cell_type": "code",
   "execution_count": null,
   "id": "ea2563ef-3f1f-4910-8526-efc8422e7c8b",
   "metadata": {},
   "outputs": [],
   "source": []
  },
  {
   "cell_type": "code",
   "execution_count": null,
   "id": "a75dc89e-8329-4355-b6bb-bfed322739e9",
   "metadata": {},
   "outputs": [],
   "source": [
    "clusters_real2 = np.load('../results_PU/final_vaeda_result/hyper_PcaComp30_ClustWeight20000/hm-12k_clusters_real.npy')\n",
    "clusters_sim2 = np.load('../results_PU/final_vaeda_result/hyper_PcaComp30_ClustWeight20000/hm-12k_clusters_sim.npy')\n",
    "emb_real2 = np.load('../results_PU/final_vaeda_result/hyper_PcaComp30_ClustWeight20000/hm-12k_embedding_real.npy')\n",
    "emb_sim2 = np.load('../results_PU/final_vaeda_result/hyper_PcaComp30_ClustWeight20000/hm-12k_embedding_sim.npy')\n",
    "df_scores2 = pd.read_csv('../results_PU/final_vaeda_result/hyper_PcaComp30_ClustWeight20000/hm-12k_scores_ROC_PR_area_ALL.csv')\n",
    "knn_feat_real2 = np.load('../results_PU/final_vaeda_result/hyper_PcaComp30_ClustWeight20000/hm-12k_knn_feature_real.npy')\n",
    "knn_feat_sim2 = np.load('../results_PU/final_vaeda_result/hyper_PcaComp30_ClustWeight20000/hm-12k_knn_feature_sim.npy')\n",
    "sim_scores2 = np.load('../results_PU/final_vaeda_result/hyper_PcaComp30_ClustWeight20000/hm-12k_scores_on_sim.npy')\n",
    "scores2 = np.load('../results_PU/final_vaeda_result/hyper_PcaComp30_ClustWeight20000/hm-12k_scores.npy')\n",
    "sim_ind2 = np.load('../results_PU/final_vaeda_result/hyper_PcaComp30_ClustWeight20000/hm-12k_sim_ind.npy')\n",
    "time2 = pd.read_csv('../results_PU/final_vaeda_result/hyper_PcaComp30_ClustWeight20000/hm-12k_time.csv')\n",
    "dat_sim2 = scs.load_npz('../results_PU/final_vaeda_result/hyper_PcaComp30_ClustWeight20000/hm-12k_sim_doubs.npz')\n",
    "sim_which2 = np.load('../results_PU/final_vaeda_result/hyper_PcaComp30_ClustWeight20000/hm-12k_which_sim_doubs.npy')"
   ]
  },
  {
   "cell_type": "code",
   "execution_count": null,
   "id": "1499bf01-b58e-4be1-9942-e33dc93c1ef7",
   "metadata": {},
   "outputs": [],
   "source": [
    "m = np.all(dat_sim.toarray()==dat_sim2.toarray())"
   ]
  },
  {
   "cell_type": "code",
   "execution_count": null,
   "id": "52e9f086-5315-456f-b0c8-3d0b5f7e9bb9",
   "metadata": {},
   "outputs": [],
   "source": [
    "m"
   ]
  },
  {
   "cell_type": "code",
   "execution_count": null,
   "id": "bae59436-0bec-4e66-856d-b7fff8a4867c",
   "metadata": {},
   "outputs": [],
   "source": [
    "np.all(sim_which==sim_which2)"
   ]
  },
  {
   "cell_type": "code",
   "execution_count": null,
   "id": "8a527130-0564-44e4-b58c-b5f5da138675",
   "metadata": {},
   "outputs": [],
   "source": [
    "np.all(sim_ind==sim_ind2)"
   ]
  },
  {
   "cell_type": "code",
   "execution_count": null,
   "id": "52b9aa07-cfc6-4eb4-8ac5-e37d2cb4b52c",
   "metadata": {},
   "outputs": [],
   "source": [
    "np.all(clusters_real==clusters_real2)"
   ]
  },
  {
   "cell_type": "code",
   "execution_count": null,
   "id": "11935c8a-87a4-4c44-9877-ef7b9239802d",
   "metadata": {},
   "outputs": [],
   "source": [
    "np.all(knn_feat_real2==knn_feat_real)"
   ]
  },
  {
   "cell_type": "code",
   "execution_count": null,
   "id": "687263f0-39e6-4367-9d8a-604c046284e9",
   "metadata": {},
   "outputs": [],
   "source": [
    "knn_feat_real2"
   ]
  },
  {
   "cell_type": "code",
   "execution_count": null,
   "id": "9ae834b8-66b9-4f7d-baa9-669ba790a7f0",
   "metadata": {},
   "outputs": [],
   "source": [
    "knn_feat_real"
   ]
  },
  {
   "cell_type": "code",
   "execution_count": null,
   "id": "32fb6ac0-f0dc-49e8-a2b1-98557c02b9d8",
   "metadata": {},
   "outputs": [],
   "source": [
    "clusters_real = np.load('../results_PU/final_vaeda_result/fourtysix_filter_after2/cline-ch_clusters_real.npy')\n",
    "clusters_sim = np.load('../results_PU/final_vaeda_result/fourtysix_filter_after2/cline-ch_clusters_sim.npy')\n",
    "emb_real = np.load('../results_PU/final_vaeda_result/fourtysix_filter_after2/cline-ch_embedding_real.npy')\n",
    "emb_sim = np.load('../results_PU/final_vaeda_result/fourtysix_filter_after2/cline-ch_embedding_sim.npy')\n",
    "df_scores = pd.read_csv('../results_PU/final_vaeda_result/fourtysix_filter_after2/cline-ch_scores_ROC_PR_area_ALL.csv')\n",
    "knn_feat_real = np.load('../results_PU/final_vaeda_result/fourtysix_filter_after2/cline-ch_knn_feature_real.npy')\n",
    "knn_feat_sim = np.load('../results_PU/final_vaeda_result/fourtysix_filter_after2/cline-ch_knn_feature_sim.npy')\n",
    "sim_scores = np.load('../results_PU/final_vaeda_result/fourtysix_filter_after2/cline-ch_scores_on_sim.npy')\n",
    "scores = np.load('../results_PU/final_vaeda_result/fourtysix_filter_after2/cline-ch_scores.npy')\n",
    "sim_ind = np.load('../results_PU/final_vaeda_result/fourtysix_filter_after2/cline-ch_sim_ind.npy')\n",
    "time = pd.read_csv('../results_PU/final_vaeda_result/fourtysix_filter_after2/cline-ch_time.csv')\n",
    "dat_sim = scs.load_npz('../results_PU/final_vaeda_result/fourtysix_filter_after2/cline-ch_sim_doubs.npz')\n",
    "sim_which = np.load('../results_PU/final_vaeda_result/fourtysix_filter_after2/cline-ch_which_sim_doubs.npy')"
   ]
  },
  {
   "cell_type": "code",
   "execution_count": null,
   "id": "0da868c9-f6a3-413f-8188-40130a38806f",
   "metadata": {},
   "outputs": [],
   "source": [
    "clusters_real2 = np.load('../results_PU/final_vaeda_result/fourtysix_filter_after/cline-ch_clusters_real.npy')\n",
    "clusters_sim2 = np.load('../results_PU/final_vaeda_result/fourtysix_filter_after/cline-ch_clusters_sim.npy')\n",
    "emb_real2 = np.load('../results_PU/final_vaeda_result/fourtysix_filter_after/cline-ch_embedding_real.npy')\n",
    "emb_sim2 = np.load('../results_PU/final_vaeda_result/fourtysix_filter_after/cline-ch_embedding_sim.npy')\n",
    "df_scores2 = pd.read_csv('../results_PU/final_vaeda_result/fourtysix_filter_after/cline-ch_scores_ROC_PR_area_ALL.csv')\n",
    "knn_feat_real2 = np.load('../results_PU/final_vaeda_result/fourtysix_filter_after/cline-ch_knn_feature_real.npy')\n",
    "knn_feat_sim2 = np.load('../results_PU/final_vaeda_result/fourtysix_filter_after/cline-ch_knn_feature_sim.npy')\n",
    "sim_scores2 = np.load('../results_PU/final_vaeda_result/fourtysix_filter_after/cline-ch_scores_on_sim.npy')\n",
    "scores2 = np.load('../results_PU/final_vaeda_result/fourtysix_filter_after/cline-ch_scores.npy')\n",
    "sim_ind2 = np.load('../results_PU/final_vaeda_result/fourtysix_filter_after/cline-ch_sim_ind.npy')\n",
    "time2 = pd.read_csv('../results_PU/final_vaeda_result/fourtysix_filter_after/cline-ch_time.csv')\n",
    "dat_sim2 = scs.load_npz('../results_PU/final_vaeda_result/fourtysix_filter_after/cline-ch_sim_doubs.npz')\n",
    "sim_which2 = np.load('../results_PU/final_vaeda_result/fourtysix_filter_after/cline-ch_which_sim_doubs.npy')"
   ]
  },
  {
   "cell_type": "code",
   "execution_count": null,
   "id": "c004a62a-6496-43aa-9667-4d5f38a9a1e7",
   "metadata": {},
   "outputs": [],
   "source": [
    "np.all(dat_sim.toarray()==dat_sim2.toarray())\n"
   ]
  },
  {
   "cell_type": "code",
   "execution_count": null,
   "id": "ca19ba27-5a26-4756-9415-479dccae27a5",
   "metadata": {},
   "outputs": [],
   "source": [
    "np.all(knn_feat_real==knn_feat_real2)"
   ]
  },
  {
   "cell_type": "code",
   "execution_count": null,
   "id": "191e4bcd-4b18-46f0-ae62-88ffe8b82814",
   "metadata": {},
   "outputs": [],
   "source": []
  },
  {
   "cell_type": "code",
   "execution_count": null,
   "id": "eaf150a1-0cca-4580-85df-f1d149cace6f",
   "metadata": {},
   "outputs": [],
   "source": [
    "from sklearn.metrics import accuracy_score, f1_score, precision_score, recall_score\n",
    "\n",
    "\n",
    "\n",
    "\n",
    "print(f1_score(labels[true<2], calls, average=\"macro\"))\n",
    "print(precision_score(labels[true<2], calls, average=\"macro\"))\n",
    "print(recall_score(labels[true<2], calls, average=\"macro\"))\n",
    "print(accuracy_score(labels[true<2], calls))\n",
    "print()\n",
    "print(f1_score(labels[true<2], calls, average=\"weighted\"))\n",
    "print(precision_score(labels[true<2], calls, average=\"weighted\"))\n",
    "print(recall_score(labels[true<2], calls, average=\"weighted\"))\n",
    "print(accuracy_score(labels[true<2], calls))\n",
    "print()\n",
    "print(f1_score(labels[true<2], calls, pos_label='doublet', average=\"binary\"))\n",
    "print(precision_score(labels[true<2], calls, pos_label='doublet', average=\"binary\"))\n",
    "print(recall_score(labels[true<2], calls,pos_label='doublet', average=\"binary\"))\n",
    "print(accuracy_score(labels[true<2], calls))\n",
    "print()\n",
    "print(f1_score(labels[true<2], calls, average=\"micro\"))\n",
    "print(precision_score(labels[true<2], calls, average=\"micro\"))\n",
    "print(recall_score(labels[true<2], calls, average=\"micro\"))\n",
    "print(accuracy_score(labels[true<2], calls))"
   ]
  },
  {
   "cell_type": "code",
   "execution_count": null,
   "id": "91968bf5-cf69-4131-b957-3fc237d453a0",
   "metadata": {},
   "outputs": [],
   "source": [
    "clusters_real = np.load('../results_PU/final_vaeda_result/fourtythree_same_as_42/J293t-dm_clusters_real.npy')\n",
    "clusters_sim = np.load('../results_PU/final_vaeda_result/fourtythree_same_as_42/J293t-dm_clusters_sim.npy')\n",
    "emb_real = np.load('../results_PU/final_vaeda_result/fourtythree_same_as_42/J293t-dm_embedding_real.npy')\n",
    "emb_sim = np.load('../results_PU/final_vaeda_result/fourtythree_same_as_42/J293t-dm_embedding_sim.npy')\n",
    "df_scores = pd.read_csv('../results_PU/final_vaeda_result/fourtythree_same_as_42/J293t-dm_scores_ROC_PR_area_ALL.csv')\n",
    "knn_feat_real = np.load('../results_PU/final_vaeda_result/fourtythree_same_as_42/J293t-dm_knn_feature_real.npy')\n",
    "knn_feat_sim = np.load('../results_PU/final_vaeda_result/fourtythree_same_as_42/J293t-dm_knn_feature_sim.npy')\n",
    "sim_scores = np.load('../results_PU/final_vaeda_result/fourtythree_same_as_42/J293t-dm_scores_on_sim.npy')\n",
    "scores = np.load('../results_PU/final_vaeda_result/fourtythree_same_as_42/J293t-dm_scores.npy')\n",
    "sim_ind = np.load('../results_PU/final_vaeda_result/fourtythree_same_as_42/J293t-dm_sim_ind.npy')\n",
    "time = pd.read_csv('../results_PU/final_vaeda_result/fourtythree_same_as_42/J293t-dm_time.csv')\n",
    "dat_sim = scs.load_npz('../results_PU/final_vaeda_result/fourtythree_same_as_42/J293t-dm_sim_doubs.npz')\n",
    "sim_which = np.load('../results_PU/final_vaeda_result/fourtythree_same_as_42/J293t-dm_which_sim_doubs.npy')\n"
   ]
  },
  {
   "cell_type": "code",
   "execution_count": null,
   "id": "813c862f-9178-4c13-9115-260b2b38e5ab",
   "metadata": {},
   "outputs": [],
   "source": [
    "sim_which.shape"
   ]
  },
  {
   "cell_type": "code",
   "execution_count": null,
   "id": "21e70edf-e23b-4911-9d93-5767a5226dfc",
   "metadata": {},
   "outputs": [],
   "source": [
    "clusters_real.shape"
   ]
  },
  {
   "cell_type": "code",
   "execution_count": null,
   "id": "7ef9c2cd-3d8a-417a-b0c7-4278a0c23572",
   "metadata": {},
   "outputs": [],
   "source": [
    "clusters_sim.shape"
   ]
  },
  {
   "cell_type": "code",
   "execution_count": null,
   "id": "4821acb1-c26c-4aed-a9ed-5474dba403ca",
   "metadata": {},
   "outputs": [],
   "source": [
    "emb_real.shape"
   ]
  },
  {
   "cell_type": "code",
   "execution_count": null,
   "id": "892d0faf-3a88-4339-8516-5accc70816c8",
   "metadata": {},
   "outputs": [],
   "source": [
    "emb_sim.shape"
   ]
  },
  {
   "cell_type": "code",
   "execution_count": null,
   "id": "d559d960-56c9-47a9-a9b1-8516a7e5ec05",
   "metadata": {},
   "outputs": [],
   "source": [
    "df_scores"
   ]
  },
  {
   "cell_type": "code",
   "execution_count": null,
   "id": "d7f50416-351c-4077-b81a-236f2f9ed79c",
   "metadata": {},
   "outputs": [],
   "source": [
    "knn_feat_real.shape"
   ]
  },
  {
   "cell_type": "code",
   "execution_count": null,
   "id": "b4a17e4e-8987-45c5-984c-12b4de75b5a9",
   "metadata": {},
   "outputs": [],
   "source": [
    "knn_feat_sim.shape"
   ]
  },
  {
   "cell_type": "code",
   "execution_count": null,
   "id": "52ccfebf-9fae-4656-ac16-39867c433b59",
   "metadata": {},
   "outputs": [],
   "source": [
    "sim_scores.shape"
   ]
  },
  {
   "cell_type": "code",
   "execution_count": null,
   "id": "08dae28a-a9f1-44f2-a21b-91d7cb2fd3c2",
   "metadata": {},
   "outputs": [],
   "source": [
    "scores.shape"
   ]
  },
  {
   "cell_type": "code",
   "execution_count": null,
   "id": "d54426c9-47db-45ee-8401-e52e361a4575",
   "metadata": {},
   "outputs": [],
   "source": [
    "sim_ind.shape"
   ]
  },
  {
   "cell_type": "code",
   "execution_count": null,
   "id": "b458af30-3ef9-45ff-8fb4-a648eb6ba64d",
   "metadata": {},
   "outputs": [],
   "source": [
    "time"
   ]
  },
  {
   "cell_type": "code",
   "execution_count": null,
   "id": "85194c70-3508-468a-8db5-6f2321d923be",
   "metadata": {},
   "outputs": [],
   "source": [
    "dat_sim.shape"
   ]
  },
  {
   "cell_type": "code",
   "execution_count": null,
   "id": "286c8f06-8238-42bc-8cab-5f1c1ff750b2",
   "metadata": {},
   "outputs": [],
   "source": []
  },
  {
   "cell_type": "code",
   "execution_count": null,
   "id": "023d2033-c049-419a-924e-96e097fd5974",
   "metadata": {},
   "outputs": [],
   "source": []
  },
  {
   "cell_type": "code",
   "execution_count": null,
   "id": "d8e2f5f6-2f30-4587-9d79-ee81032406cd",
   "metadata": {},
   "outputs": [],
   "source": [
    "for file in files:\n",
    "\n",
    "    data_name = file[:-19]\n",
    "    print(data_name) \n",
    "    \n",
    "    save_path = '../results_PU/final_vaeda_result/eighteen_fast_clust/'\n",
    "    if not os.path.exists(save_path):\n",
    "        os.makedirs(save_path)\n",
    "    save_path = save_path + '/' \n",
    "    print(save_path)\n",
    "\n",
    "    fast = pd.read_csv(save_path + data_name + '_time.csv', index_col=0)\n",
    "    \n",
    "    \n",
    "    save_path = '../results_PU/final_vaeda_result/seventeen_new_doubs/'\n",
    "    if not os.path.exists(save_path):\n",
    "        os.makedirs(save_path)\n",
    "    save_path = save_path + '/' \n",
    "    print(save_path)\n",
    "\n",
    "    slow = (pd.read_csv(save_path + data_name + '_time.csv', index_col=0))\n",
    "    \n",
    "    print(slow-fast)\n",
    "\n",
    "    "
   ]
  },
  {
   "cell_type": "markdown",
   "id": "80efb2f6-d112-4be5-b70b-83cde9e1d415",
   "metadata": {},
   "source": [
    "to speed up computational time\n",
    "\n",
    "1.  tf.layers.batch_normalization(\n",
    "    input_layer, fused=True, data_format=‘NCHW’) <- fused batch normilization\n",
    "2. tf.ConfigProto, is used to set these configurations by passing to in the config attribute of tf.Session. For both parallelism configurations, is initialised as zero, they will revert to the number of logical CPU cores.\n",
    "3. As you mentionned batch_size is really important to tune, it can lead to impressive speedup but check that your perplexity keeps relevant.\n",
    "4. Most importantly, using sampled softmax instead of regular softmax is way faster. This would require you to use a [config.vocab_size, config.hidden_size] weight matrix instead of you [config.hidden_size, config.vocab_size]\n",
    "6. tf.compat.v1.disable_eager_execution()\n",
    "7. tf.config.optimizer.set_jit(True)\n",
    "\n",
    "\n",
    "TRY #6 for sure!"
   ]
  },
  {
   "cell_type": "code",
   "execution_count": null,
   "id": "656a15ec-81b6-41d1-951f-0baaf9d20eb0",
   "metadata": {
    "tags": []
   },
   "outputs": [],
   "source": [
    "print('done')"
   ]
  },
  {
   "cell_type": "code",
   "execution_count": null,
   "id": "04263a8f-99ac-4222-a06e-c7d68e6b85cc",
   "metadata": {},
   "outputs": [],
   "source": []
  }
 ],
 "metadata": {
  "kernelspec": {
   "display_name": "newenv",
   "language": "python",
   "name": "newenv"
  },
  "language_info": {
   "codemirror_mode": {
    "name": "ipython",
    "version": 3
   },
   "file_extension": ".py",
   "mimetype": "text/x-python",
   "name": "python",
   "nbconvert_exporter": "python",
   "pygments_lexer": "ipython3",
   "version": "3.8.5"
  }
 },
 "nbformat": 4,
 "nbformat_minor": 5
}
